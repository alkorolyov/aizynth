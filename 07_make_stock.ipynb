{
 "cells": [
  {
   "metadata": {
    "ExecuteTime": {
     "end_time": "2024-10-10T12:15:07.606548Z",
     "start_time": "2024-10-10T12:15:07.558979Z"
    }
   },
   "cell_type": "code",
   "source": [
    "from rdkit.Chem.MolStandardize.rdMolStandardize import SuperParent\n",
    "%load_ext autoreload\n",
    "%autoreload 2\n",
    "\n",
    "import sys\n",
    "sys.path.append('..')"
   ],
   "id": "2a2c2659f1a17ba7",
   "outputs": [
    {
     "name": "stdout",
     "output_type": "stream",
     "text": [
      "The autoreload extension is already loaded. To reload it, use:\n",
      "  %reload_ext autoreload\n"
     ]
    }
   ],
   "execution_count": 68
  },
  {
   "metadata": {
    "ExecuteTime": {
     "end_time": "2024-10-10T12:15:07.668538Z",
     "start_time": "2024-10-10T12:15:07.615549Z"
    }
   },
   "cell_type": "code",
   "source": [
    "import re\n",
    "import gzip\n",
    "import os\n",
    "from zipfile import ZipFile\n",
    "\n",
    "import numpy as np\n",
    "from tqdm import tqdm\n",
    "import pandas as pd\n",
    "\n",
    "from src.utils import smi2mol, mol2smi, apply_mp\n",
    "\n",
    "from rdkit import Chem\n",
    "from rdkit.Chem import PandasTools\n",
    "from rdkit.Chem.MolStandardize import rdMolStandardize\n",
    "from rdkit import RDLogger\n",
    "RDLogger.DisableLog('rdApp.*')"
   ],
   "id": "bffe90a1fbd69afb",
   "outputs": [],
   "execution_count": 69
  },
  {
   "metadata": {
    "ExecuteTime": {
     "end_time": "2024-10-10T12:15:07.732048Z",
     "start_time": "2024-10-10T12:15:07.675538Z"
    }
   },
   "cell_type": "code",
   "source": [
    "smiles_to_add = pd.Series([\n",
    "    'CCOCC', 'CO', 'CI', 'CBr', 'CCl', \n",
    "    'CCCl', 'CCBr', 'CCI', \n",
    "    'CN', 'CCN', 'C(=N)N', 'CC(=N)N', 'NN',\n",
    "    'C=O', 'CC=O', 'CC(=O)OC(C)=O', 'C1OC1',    \n",
    "    'ClS(=O)(=O)C', 'CS(=O)(=O)OS(C)(=O)=O', 'FC(F)(F)S(=O)(=O)OS(=O)(=O)C(F)(F)F',\n",
    "])"
   ],
   "id": "631b39dbed76111f",
   "outputs": [],
   "execution_count": 70
  },
  {
   "metadata": {},
   "cell_type": "markdown",
   "source": [
    "### Create MolPort Stock\n",
    "\n",
    "download file from https://www.molport.com/shop/fast-delivery-bb"
   ],
   "id": "2f01c733220770d9"
  },
  {
   "metadata": {
    "ExecuteTime": {
     "end_time": "2024-10-10T12:16:47.674104Z",
     "start_time": "2024-10-10T12:15:07.746049Z"
    }
   },
   "cell_type": "code",
   "source": [
    "days = '7'\n",
    "\n",
    "fname = f'data/molport/{days}_Days/{days}_Days-1.sdf.gz'\n",
    "\n",
    "if not os.path.exists(fname):\n",
    "    with ZipFile('data/molport/Molport_Fast_Delivery_BB_Region_EU.zip', 'r') as zip_ref:\n",
    "        zip_ref.extractall('data/molport')\n",
    "\n",
    "df = PandasTools.LoadSDF(fname, molColName='mol')\n",
    "df.info()"
   ],
   "id": "34ee787e2c6cbc68",
   "outputs": [
    {
     "name": "stdout",
     "output_type": "stream",
     "text": [
      "<class 'pandas.core.frame.DataFrame'>\n",
      "Int64Index: 323092 entries, 0 to 323283\n",
      "Data columns (total 6 columns):\n",
      " #   Column            Non-Null Count   Dtype \n",
      "---  ------            --------------   ----- \n",
      " 0   Molport ID        323092 non-null  object\n",
      " 1   SMILES            323092 non-null  object\n",
      " 2   Supplier Country  323092 non-null  object\n",
      " 3   Link to Molport   323092 non-null  object\n",
      " 4   ID                323092 non-null  object\n",
      " 5   mol               323092 non-null  object\n",
      "dtypes: object(6)\n",
      "memory usage: 17.3+ MB\n"
     ]
    }
   ],
   "execution_count": 71
  },
  {
   "metadata": {
    "ExecuteTime": {
     "end_time": "2024-10-10T12:17:15.448284Z",
     "start_time": "2024-10-10T12:16:47.681122Z"
    }
   },
   "cell_type": "code",
   "source": [
    "mols_to_add = smiles_to_add.apply(smi2mol)\n",
    "mols = pd.concat([df.mol, mols_to_add])\n",
    "smi = mols.apply(mol2smi)\n",
    "smi.dropna(inplace=True)\n",
    "smi.to_csv(f'data/molport/{days}_days.smi', index=False, header=False)"
   ],
   "id": "83dc56d5a35b47b4",
   "outputs": [],
   "execution_count": 72
  },
  {
   "metadata": {},
   "cell_type": "markdown",
   "source": "### Create molbloom filter",
   "id": "837f753f5d89cb97"
  },
  {
   "metadata": {
    "ExecuteTime": {
     "end_time": "2024-10-10T12:20:08.970692Z",
     "start_time": "2024-10-10T12:20:08.915173Z"
    }
   },
   "cell_type": "code",
   "source": [
    "import math\n",
    "\n",
    "eps = 1e-6              # false positive rate\n",
    "n = len(smi)            # number of elements\n",
    "LN2 = 0.69314718056\n",
    "m = round(- n * math.log(eps, 2) / (LN2 * LN2))  # calc bloom filter size in bits\n",
    "m"
   ],
   "id": "997b2add4546a5c9",
   "outputs": [
    {
     "data": {
      "text/plain": [
       "13404285"
      ]
     },
     "execution_count": 74,
     "metadata": {},
     "output_type": "execute_result"
    }
   ],
   "execution_count": 74
  },
  {
   "metadata": {},
   "cell_type": "code",
   "outputs": [],
   "execution_count": null,
   "source": "!smiles2stock --files data/molport/{days}_days.smi --output config/molport_{days}d_stock.bloom --target molbloom-inchi --bloom_params {m} {n}",
   "id": "9d7e4dba8b1835fd"
  },
  {
   "metadata": {
    "ExecuteTime": {
     "end_time": "2024-10-10T12:21:22.061516Z",
     "start_time": "2024-10-10T12:20:12.626709Z"
    }
   },
   "cell_type": "code",
   "source": "!smiles2stock --files data/molport/{days}_days.smi --output config/molport_{days}d_smiles_stock.bloom --target molbloom --bloom_params {m} {n}",
   "id": "206fe3d6f23cf0ae",
   "outputs": [
    {
     "name": "stdout",
     "output_type": "stream",
     "text": [
      "Processing data/molport/7_days.smi\n",
      "bloom_new: myfilter size=13404285 bits, MB=1.597915, n=323112 k=28 fp=0.000000\n",
      "Created bloom stock with 322722 unique compounds\n"
     ]
    }
   ],
   "execution_count": 75
  },
  {
   "metadata": {},
   "cell_type": "code",
   "outputs": [],
   "execution_count": null,
   "source": "",
   "id": "590b341264a6bcd0"
  },
  {
   "metadata": {},
   "cell_type": "code",
   "outputs": [],
   "execution_count": null,
   "source": "",
   "id": "e84603593a52cb24"
  }
 ],
 "metadata": {
  "kernelspec": {
   "display_name": "aiz",
   "language": "python",
   "name": "aiz"
  },
  "language_info": {
   "codemirror_mode": {
    "name": "ipython",
    "version": 2
   },
   "file_extension": ".py",
   "mimetype": "text/x-python",
   "name": "python",
   "nbconvert_exporter": "python",
   "pygments_lexer": "ipython2",
   "version": "2.7.6"
  }
 },
 "nbformat": 4,
 "nbformat_minor": 5
}
