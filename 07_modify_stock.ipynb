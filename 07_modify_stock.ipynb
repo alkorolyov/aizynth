{
 "cells": [
  {
   "metadata": {
    "ExecuteTime": {
     "end_time": "2024-09-30T11:27:49.711830Z",
     "start_time": "2024-09-30T11:27:49.140305Z"
    }
   },
   "cell_type": "code",
   "source": [
    "import re\n",
    "import gzip\n",
    "from tqdm import tqdm\n",
    "import pandas as pd\n",
    "\n",
    "from rdkit import Chem\n",
    "from rdkit.Chem import PandasTools\n",
    "\n",
    "smiles_to_add = [\n",
    "    'CO', 'CI', 'CBr', 'CCl', \n",
    "    'CCCl', 'CCBr', 'CCI', \n",
    "    'CN', 'CCN', 'NC=N', 'NN',\n",
    "    'C=O', 'CC=O',     \n",
    "]"
   ],
   "id": "bffe90a1fbd69afb",
   "outputs": [],
   "execution_count": 1
  },
  {
   "metadata": {},
   "cell_type": "markdown",
   "source": "### create new stock",
   "id": "2f01c733220770d9"
  },
  {
   "metadata": {
    "ExecuteTime": {
     "end_time": "2024-09-30T11:38:58.692501Z",
     "start_time": "2024-09-30T11:37:48.237412Z"
    }
   },
   "cell_type": "code",
   "source": [
    "from rdkit import RDLogger\n",
    "RDLogger.DisableLog('rdApp.*')\n",
    "\n",
    "df = PandasTools.LoadSDF('data/molport/7_Days-1.sdf.gz', molColName='mol').reset_index()\n",
    "df.info()"
   ],
   "id": "34ee787e2c6cbc68",
   "outputs": [
    {
     "data": {
      "text/plain": [
       "         index           Molport ID  \\\n",
       "0            0  Molport-047-774-043   \n",
       "1            1  Molport-047-774-054   \n",
       "2            2  Molport-047-774-041   \n",
       "3            3  Molport-047-774-036   \n",
       "4            4  Molport-047-773-927   \n",
       "...        ...                  ...   \n",
       "323087  323279  Molport-021-800-971   \n",
       "323088  323280  Molport-006-727-625   \n",
       "323089  323281  Molport-051-542-081   \n",
       "323090  323282  Molport-051-738-701   \n",
       "323091  323283  Molport-003-811-838   \n",
       "\n",
       "                                                   SMILES Supplier Country  \\\n",
       "0                          C[C@H](OC(=O)OC(C)(C)C)C=C |r|           Latvia   \n",
       "1                                   Fc1ccc2c(Br)c[se]c2c1           Latvia   \n",
       "2       CON(C)C(=O)[C@H](C)O[Si](c1ccccc1)(c1ccccc1)C(...           Latvia   \n",
       "3                          O=S(=O)(C1CC1)c1nnnn1-c1ccccc1           Latvia   \n",
       "4         ClCC(=O)N(c1ccccc1)c1c(C(=O)CCl)c(=O)oc2ccccc12           Latvia   \n",
       "...                                                   ...              ...   \n",
       "323087                           Fc1ccc(cc1F)-n1cc(Br)cn1              USA   \n",
       "323088                               COc1ccc2ccnc(Cl)c2c1              USA   \n",
       "323089                           Cl.NC(C1CC1)c1cccc(Br)c1              USA   \n",
       "323090  CC1(C)O[C@@H]2[C@@H](O[C@H](CO)C2(C)O1)n1ccc2c...              USA   \n",
       "323091                                   NC1COc2ccccc2C1O              USA   \n",
       "\n",
       "                                          Link to Molport  \\\n",
       "0       https://www.molport.com/shop/compound/Molport-...   \n",
       "1       https://www.molport.com/shop/compound/Molport-...   \n",
       "2       https://www.molport.com/shop/compound/Molport-...   \n",
       "3       https://www.molport.com/shop/compound/Molport-...   \n",
       "4       https://www.molport.com/shop/compound/Molport-...   \n",
       "...                                                   ...   \n",
       "323087  https://www.molport.com/shop/compound/Molport-...   \n",
       "323088  https://www.molport.com/shop/compound/Molport-...   \n",
       "323089  https://www.molport.com/shop/compound/Molport-...   \n",
       "323090  https://www.molport.com/shop/compound/Molport-...   \n",
       "323091  https://www.molport.com/shop/compound/Molport-...   \n",
       "\n",
       "                                                       ID  \\\n",
       "0       7_Days-1.sdf\u0000\u0000\u0000\u0000\u0000\u0000\u0000\u0000\u0000\u0000\u0000\u0000\u0000\u0000\u0000\u0000\u0000\u0000\u0000\u0000\u0000\u0000\u0000\u0000\u0000\u0000\u0000\u0000\u0000\u0000\u0000\u0000\u0000\u0000...   \n",
       "1                                                           \n",
       "2                                                           \n",
       "3                                                           \n",
       "4                                                           \n",
       "...                                                   ...   \n",
       "323087                                    Chemistry 47149   \n",
       "323088                                                      \n",
       "323089                                                      \n",
       "323090                                                      \n",
       "323091                                                      \n",
       "\n",
       "                                                      mol  \n",
       "0       <rdkit.Chem.rdchem.Mol object at 0x00000273A91...  \n",
       "1       <rdkit.Chem.rdchem.Mol object at 0x00000272FFD...  \n",
       "2       <rdkit.Chem.rdchem.Mol object at 0x00000272FFD...  \n",
       "3       <rdkit.Chem.rdchem.Mol object at 0x00000272FFD...  \n",
       "4       <rdkit.Chem.rdchem.Mol object at 0x00000272FFD...  \n",
       "...                                                   ...  \n",
       "323087  <rdkit.Chem.rdchem.Mol object at 0x00000274F48...  \n",
       "323088  <rdkit.Chem.rdchem.Mol object at 0x00000274F48...  \n",
       "323089  <rdkit.Chem.rdchem.Mol object at 0x00000274F48...  \n",
       "323090  <rdkit.Chem.rdchem.Mol object at 0x00000274F48...  \n",
       "323091  <rdkit.Chem.rdchem.Mol object at 0x00000274F48...  \n",
       "\n",
       "[323092 rows x 7 columns]"
      ],
      "text/html": [
       "<div>\n",
       "<style scoped>\n",
       "    .dataframe tbody tr th:only-of-type {\n",
       "        vertical-align: middle;\n",
       "    }\n",
       "\n",
       "    .dataframe tbody tr th {\n",
       "        vertical-align: top;\n",
       "    }\n",
       "\n",
       "    .dataframe thead th {\n",
       "        text-align: right;\n",
       "    }\n",
       "</style>\n",
       "<table border=\"1\" class=\"dataframe\">\n",
       "  <thead>\n",
       "    <tr style=\"text-align: right;\">\n",
       "      <th></th>\n",
       "      <th>index</th>\n",
       "      <th>Molport ID</th>\n",
       "      <th>SMILES</th>\n",
       "      <th>Supplier Country</th>\n",
       "      <th>Link to Molport</th>\n",
       "      <th>ID</th>\n",
       "      <th>mol</th>\n",
       "    </tr>\n",
       "  </thead>\n",
       "  <tbody>\n",
       "    <tr>\n",
       "      <th>0</th>\n",
       "      <td>0</td>\n",
       "      <td>Molport-047-774-043</td>\n",
       "      <td>C[C@H](OC(=O)OC(C)(C)C)C=C |r|</td>\n",
       "      <td>Latvia</td>\n",
       "      <td>https://www.molport.com/shop/compound/Molport-...</td>\n",
       "      <td>7_Days-1.sdf\u0000\u0000\u0000\u0000\u0000\u0000\u0000\u0000\u0000\u0000\u0000\u0000\u0000\u0000\u0000\u0000\u0000\u0000\u0000\u0000\u0000\u0000\u0000\u0000\u0000\u0000\u0000\u0000\u0000\u0000\u0000\u0000\u0000\u0000...</td>\n",
       "      <td>&lt;rdkit.Chem.rdchem.Mol object at 0x00000273A91...</td>\n",
       "    </tr>\n",
       "    <tr>\n",
       "      <th>1</th>\n",
       "      <td>1</td>\n",
       "      <td>Molport-047-774-054</td>\n",
       "      <td>Fc1ccc2c(Br)c[se]c2c1</td>\n",
       "      <td>Latvia</td>\n",
       "      <td>https://www.molport.com/shop/compound/Molport-...</td>\n",
       "      <td></td>\n",
       "      <td>&lt;rdkit.Chem.rdchem.Mol object at 0x00000272FFD...</td>\n",
       "    </tr>\n",
       "    <tr>\n",
       "      <th>2</th>\n",
       "      <td>2</td>\n",
       "      <td>Molport-047-774-041</td>\n",
       "      <td>CON(C)C(=O)[C@H](C)O[Si](c1ccccc1)(c1ccccc1)C(...</td>\n",
       "      <td>Latvia</td>\n",
       "      <td>https://www.molport.com/shop/compound/Molport-...</td>\n",
       "      <td></td>\n",
       "      <td>&lt;rdkit.Chem.rdchem.Mol object at 0x00000272FFD...</td>\n",
       "    </tr>\n",
       "    <tr>\n",
       "      <th>3</th>\n",
       "      <td>3</td>\n",
       "      <td>Molport-047-774-036</td>\n",
       "      <td>O=S(=O)(C1CC1)c1nnnn1-c1ccccc1</td>\n",
       "      <td>Latvia</td>\n",
       "      <td>https://www.molport.com/shop/compound/Molport-...</td>\n",
       "      <td></td>\n",
       "      <td>&lt;rdkit.Chem.rdchem.Mol object at 0x00000272FFD...</td>\n",
       "    </tr>\n",
       "    <tr>\n",
       "      <th>4</th>\n",
       "      <td>4</td>\n",
       "      <td>Molport-047-773-927</td>\n",
       "      <td>ClCC(=O)N(c1ccccc1)c1c(C(=O)CCl)c(=O)oc2ccccc12</td>\n",
       "      <td>Latvia</td>\n",
       "      <td>https://www.molport.com/shop/compound/Molport-...</td>\n",
       "      <td></td>\n",
       "      <td>&lt;rdkit.Chem.rdchem.Mol object at 0x00000272FFD...</td>\n",
       "    </tr>\n",
       "    <tr>\n",
       "      <th>...</th>\n",
       "      <td>...</td>\n",
       "      <td>...</td>\n",
       "      <td>...</td>\n",
       "      <td>...</td>\n",
       "      <td>...</td>\n",
       "      <td>...</td>\n",
       "      <td>...</td>\n",
       "    </tr>\n",
       "    <tr>\n",
       "      <th>323087</th>\n",
       "      <td>323279</td>\n",
       "      <td>Molport-021-800-971</td>\n",
       "      <td>Fc1ccc(cc1F)-n1cc(Br)cn1</td>\n",
       "      <td>USA</td>\n",
       "      <td>https://www.molport.com/shop/compound/Molport-...</td>\n",
       "      <td>Chemistry 47149</td>\n",
       "      <td>&lt;rdkit.Chem.rdchem.Mol object at 0x00000274F48...</td>\n",
       "    </tr>\n",
       "    <tr>\n",
       "      <th>323088</th>\n",
       "      <td>323280</td>\n",
       "      <td>Molport-006-727-625</td>\n",
       "      <td>COc1ccc2ccnc(Cl)c2c1</td>\n",
       "      <td>USA</td>\n",
       "      <td>https://www.molport.com/shop/compound/Molport-...</td>\n",
       "      <td></td>\n",
       "      <td>&lt;rdkit.Chem.rdchem.Mol object at 0x00000274F48...</td>\n",
       "    </tr>\n",
       "    <tr>\n",
       "      <th>323089</th>\n",
       "      <td>323281</td>\n",
       "      <td>Molport-051-542-081</td>\n",
       "      <td>Cl.NC(C1CC1)c1cccc(Br)c1</td>\n",
       "      <td>USA</td>\n",
       "      <td>https://www.molport.com/shop/compound/Molport-...</td>\n",
       "      <td></td>\n",
       "      <td>&lt;rdkit.Chem.rdchem.Mol object at 0x00000274F48...</td>\n",
       "    </tr>\n",
       "    <tr>\n",
       "      <th>323090</th>\n",
       "      <td>323282</td>\n",
       "      <td>Molport-051-738-701</td>\n",
       "      <td>CC1(C)O[C@@H]2[C@@H](O[C@H](CO)C2(C)O1)n1ccc2c...</td>\n",
       "      <td>USA</td>\n",
       "      <td>https://www.molport.com/shop/compound/Molport-...</td>\n",
       "      <td></td>\n",
       "      <td>&lt;rdkit.Chem.rdchem.Mol object at 0x00000274F48...</td>\n",
       "    </tr>\n",
       "    <tr>\n",
       "      <th>323091</th>\n",
       "      <td>323283</td>\n",
       "      <td>Molport-003-811-838</td>\n",
       "      <td>NC1COc2ccccc2C1O</td>\n",
       "      <td>USA</td>\n",
       "      <td>https://www.molport.com/shop/compound/Molport-...</td>\n",
       "      <td></td>\n",
       "      <td>&lt;rdkit.Chem.rdchem.Mol object at 0x00000274F48...</td>\n",
       "    </tr>\n",
       "  </tbody>\n",
       "</table>\n",
       "<p>323092 rows × 7 columns</p>\n",
       "</div>"
      ]
     },
     "execution_count": 9,
     "metadata": {},
     "output_type": "execute_result"
    }
   ],
   "execution_count": 9
  },
  {
   "metadata": {},
   "cell_type": "code",
   "source": "# pd.Series(Chem.MultithreadedSDMolSupplier('data/molport/3_Days-1.sdf', numWriterThreads=16), name='mol')",
   "id": "8bdea6bbe8c1f348",
   "outputs": [],
   "execution_count": null
  },
  {
   "metadata": {
    "ExecuteTime": {
     "end_time": "2024-09-30T11:40:47.860764Z",
     "start_time": "2024-09-30T11:38:58.741502Z"
    }
   },
   "cell_type": "code",
   "source": [
    "for i in tqdm(df.index):\n",
    "    try:\n",
    "        # smi = df.at[i, 'SMILES']        \n",
    "        # mol = Chem.MolFromSmiles(smi)\n",
    "        \n",
    "        mol = df.at[i, 'mol']                \n",
    "        df.at[i, 'inchi_key'] = Chem.MolToInchiKey(mol)\n",
    "    except Exception as e:        \n",
    "        pass\n",
    "        # smi = Chem.MolToSmiles(mol)\n",
    "        # print(smi, e)\n"
   ],
   "id": "d7628737139e2969",
   "outputs": [
    {
     "name": "stderr",
     "output_type": "stream",
     "text": [
      "100%|██████████| 323092/323092 [01:49<00:00, 2961.42it/s]\n"
     ]
    }
   ],
   "execution_count": 10
  },
  {
   "metadata": {
    "ExecuteTime": {
     "end_time": "2024-09-30T11:40:48.696613Z",
     "start_time": "2024-09-30T11:40:47.941302Z"
    }
   },
   "cell_type": "code",
   "source": [
    "for smi in smiles_to_add:\n",
    "    mol = Chem.MolFromSmiles(smi)\n",
    "    df.at[len(df), 'inchi_key'] = Chem.MolToInchiKey(mol)\n",
    "\n",
    "df.tail()"
   ],
   "id": "daa9e4e8abce3e32",
   "outputs": [
    {
     "data": {
      "text/plain": [
       "        index Molport ID SMILES Supplier Country Link to Molport   ID  mol  \\\n",
       "323100    NaN        NaN    NaN              NaN             NaN  NaN  NaN   \n",
       "323101    NaN        NaN    NaN              NaN             NaN  NaN  NaN   \n",
       "323102    NaN        NaN    NaN              NaN             NaN  NaN  NaN   \n",
       "323103    NaN        NaN    NaN              NaN             NaN  NaN  NaN   \n",
       "323104    NaN        NaN    NaN              NaN             NaN  NaN  NaN   \n",
       "\n",
       "                          inchi_key  \n",
       "323100  QUSNBJAOOMFDIB-UHFFFAOYSA-N  \n",
       "323101  PNKUSGQVOMIXLU-UHFFFAOYSA-N  \n",
       "323102  OAKJQQAXSVQMHS-UHFFFAOYSA-N  \n",
       "323103  WSFSSNUMVMOOMR-UHFFFAOYSA-N  \n",
       "323104  IKHGUXGNUITLKF-UHFFFAOYSA-N  "
      ],
      "text/html": [
       "<div>\n",
       "<style scoped>\n",
       "    .dataframe tbody tr th:only-of-type {\n",
       "        vertical-align: middle;\n",
       "    }\n",
       "\n",
       "    .dataframe tbody tr th {\n",
       "        vertical-align: top;\n",
       "    }\n",
       "\n",
       "    .dataframe thead th {\n",
       "        text-align: right;\n",
       "    }\n",
       "</style>\n",
       "<table border=\"1\" class=\"dataframe\">\n",
       "  <thead>\n",
       "    <tr style=\"text-align: right;\">\n",
       "      <th></th>\n",
       "      <th>index</th>\n",
       "      <th>Molport ID</th>\n",
       "      <th>SMILES</th>\n",
       "      <th>Supplier Country</th>\n",
       "      <th>Link to Molport</th>\n",
       "      <th>ID</th>\n",
       "      <th>mol</th>\n",
       "      <th>inchi_key</th>\n",
       "    </tr>\n",
       "  </thead>\n",
       "  <tbody>\n",
       "    <tr>\n",
       "      <th>323100</th>\n",
       "      <td>NaN</td>\n",
       "      <td>NaN</td>\n",
       "      <td>NaN</td>\n",
       "      <td>NaN</td>\n",
       "      <td>NaN</td>\n",
       "      <td>NaN</td>\n",
       "      <td>NaN</td>\n",
       "      <td>QUSNBJAOOMFDIB-UHFFFAOYSA-N</td>\n",
       "    </tr>\n",
       "    <tr>\n",
       "      <th>323101</th>\n",
       "      <td>NaN</td>\n",
       "      <td>NaN</td>\n",
       "      <td>NaN</td>\n",
       "      <td>NaN</td>\n",
       "      <td>NaN</td>\n",
       "      <td>NaN</td>\n",
       "      <td>NaN</td>\n",
       "      <td>PNKUSGQVOMIXLU-UHFFFAOYSA-N</td>\n",
       "    </tr>\n",
       "    <tr>\n",
       "      <th>323102</th>\n",
       "      <td>NaN</td>\n",
       "      <td>NaN</td>\n",
       "      <td>NaN</td>\n",
       "      <td>NaN</td>\n",
       "      <td>NaN</td>\n",
       "      <td>NaN</td>\n",
       "      <td>NaN</td>\n",
       "      <td>OAKJQQAXSVQMHS-UHFFFAOYSA-N</td>\n",
       "    </tr>\n",
       "    <tr>\n",
       "      <th>323103</th>\n",
       "      <td>NaN</td>\n",
       "      <td>NaN</td>\n",
       "      <td>NaN</td>\n",
       "      <td>NaN</td>\n",
       "      <td>NaN</td>\n",
       "      <td>NaN</td>\n",
       "      <td>NaN</td>\n",
       "      <td>WSFSSNUMVMOOMR-UHFFFAOYSA-N</td>\n",
       "    </tr>\n",
       "    <tr>\n",
       "      <th>323104</th>\n",
       "      <td>NaN</td>\n",
       "      <td>NaN</td>\n",
       "      <td>NaN</td>\n",
       "      <td>NaN</td>\n",
       "      <td>NaN</td>\n",
       "      <td>NaN</td>\n",
       "      <td>NaN</td>\n",
       "      <td>IKHGUXGNUITLKF-UHFFFAOYSA-N</td>\n",
       "    </tr>\n",
       "  </tbody>\n",
       "</table>\n",
       "</div>"
      ]
     },
     "execution_count": 11,
     "metadata": {},
     "output_type": "execute_result"
    }
   ],
   "execution_count": 11
  },
  {
   "metadata": {
    "ExecuteTime": {
     "end_time": "2024-09-30T11:42:19.040637Z",
     "start_time": "2024-09-30T11:42:18.931838Z"
    }
   },
   "cell_type": "code",
   "source": [
    "cols = ['Molport ID', 'SMILES', 'Supplier Country', 'inchi_key']\n",
    "df = df[cols].dropna(subset='inchi_key')"
   ],
   "id": "51271398864c3664",
   "outputs": [],
   "execution_count": 17
  },
  {
   "metadata": {
    "ExecuteTime": {
     "end_time": "2024-09-30T11:42:35.632629Z",
     "start_time": "2024-09-30T11:42:35.534314Z"
    }
   },
   "cell_type": "code",
   "source": [
    "with pd.HDFStore('config/molport_7d_stock.hdf5', 'w') as store:\n",
    "    store.put('/table', pd.DataFrame(df.inchi_key.dropna()))"
   ],
   "id": "8a3c6eecf664b75a",
   "outputs": [],
   "execution_count": 19
  },
  {
   "metadata": {},
   "cell_type": "markdown",
   "source": "### modify zinc stock",
   "id": "183317f357506b24"
  },
  {
   "metadata": {
    "ExecuteTime": {
     "end_time": "2024-09-30T09:39:12.915714Z",
     "start_time": "2024-09-30T09:38:44.485031Z"
    }
   },
   "cell_type": "code",
   "source": [
    "print('Loading zinc stock ... ', end='')\n",
    "with pd.HDFStore('config/zinc_stock.hdf5', 'r') as store:\n",
    "    df = store.get('/table')\n",
    "print('Done')\n",
    "    \n",
    "ser = pd.Series(name='inchi_key', dtype=str)\n",
    "for smi in smiles_to_add:\n",
    "    mol = Chem.MolFromSmiles(smi)\n",
    "    try:\n",
    "        Chem.SanitizeMol(mol)\n",
    "        ser.loc[len(ser)] = Chem.MolToInchiKey(mol)\n",
    "    except Exception as e:\n",
    "        print(smi, 'failed:', e)\n",
    "\n",
    "mask = ~ser.isin(df.inchi_key)\n",
    "if mask.any():    \n",
    "    with pd.HDFStore('config/zinc_stock.hdf5', 'w') as store:\n",
    "        df = pd.concat([df, ser[mask]])\n",
    "        store.put('/table', df)\n",
    "        print(mask.sum(), 'compounds added')"
   ],
   "id": "b7a5993a065dcf84",
   "outputs": [
    {
     "name": "stdout",
     "output_type": "stream",
     "text": [
      "Loading zinc stock ... Done\n"
     ]
    }
   ],
   "execution_count": 4
  },
  {
   "metadata": {
    "ExecuteTime": {
     "end_time": "2024-09-30T09:39:12.931235Z",
     "start_time": "2024-09-30T09:39:12.915714Z"
    }
   },
   "cell_type": "code",
   "source": "df.info()",
   "id": "5c1f565fe1f73d00",
   "outputs": [
    {
     "name": "stdout",
     "output_type": "stream",
     "text": [
      "<class 'pandas.core.frame.DataFrame'>\n",
      "Index: 17422844 entries, 0 to 9\n",
      "Data columns (total 1 columns):\n",
      " #   Column     Dtype \n",
      "---  ------     ----- \n",
      " 0   inchi_key  object\n",
      "dtypes: object(1)\n",
      "memory usage: 265.9+ MB\n"
     ]
    }
   ],
   "execution_count": 5
  },
  {
   "metadata": {
    "ExecuteTime": {
     "end_time": "2024-09-18T08:28:45.402698Z",
     "start_time": "2024-09-18T08:28:45.334314Z"
    }
   },
   "cell_type": "code",
   "source": [
    "import pandas as pd\n",
    "\n",
    "with pd.HDFStore('config/zinc_stock.hdf5', 'r') as store:\n",
    "    print(store.info())\n",
    "    print(store.keys())"
   ],
   "id": "eb777a81b08a0d6e",
   "outputs": [
    {
     "name": "stdout",
     "output_type": "stream",
     "text": [
      "<class 'pandas.io.pytables.HDFStore'>\n",
      "File path: config/zinc_stock.hdf5\n",
      "/                 [invalid_HDFStore node: group ``/table`` does not have a child named ``description``]\n",
      "/table            frame        (shape->[1,1])                                                          \n",
      "['/', '/table']\n"
     ]
    }
   ],
   "execution_count": 53
  },
  {
   "metadata": {
    "ExecuteTime": {
     "end_time": "2024-09-18T08:29:48.844510Z",
     "start_time": "2024-09-18T08:29:24.165897Z"
    }
   },
   "cell_type": "code",
   "source": [
    "with pd.HDFStore('config/zinc_stock_orig.hdf5', 'r') as store:\n",
    "    df = store.get('/table')\n",
    "\n",
    "df.info()"
   ],
   "id": "34db9b64a5fcfea9",
   "outputs": [
    {
     "name": "stdout",
     "output_type": "stream",
     "text": [
      "<class 'pandas.core.frame.DataFrame'>\n",
      "Index: 17422831 entries, 0 to 325908\n",
      "Data columns (total 1 columns):\n",
      " #   Column     Dtype \n",
      "---  ------     ----- \n",
      " 0   inchi_key  object\n",
      "dtypes: object(1)\n",
      "memory usage: 265.9+ MB\n"
     ]
    }
   ],
   "execution_count": 55
  },
  {
   "metadata": {
    "ExecuteTime": {
     "end_time": "2024-09-18T07:55:26.478535Z",
     "start_time": "2024-09-18T07:55:26.415965Z"
    }
   },
   "cell_type": "code",
   "source": "df.head()",
   "id": "a98fab26be796bcd",
   "outputs": [
    {
     "data": {
      "text/plain": [
       "                     inchi_key\n",
       "0  RYYVLZVUVIJVGH-UHFFFAOYSA-N\n",
       "1  HZZVJAQRINQKSD-RQJHMYQMSA-N\n",
       "2  RRTKVYSLIGQWCO-UHFFFAOYSA-N\n",
       "3  YAPQBXQYLJRXSA-UHFFFAOYSA-N\n",
       "4  SZPBAPFUXAADQV-UHFFFAOYSA-N"
      ],
      "text/html": [
       "<div>\n",
       "<style scoped>\n",
       "    .dataframe tbody tr th:only-of-type {\n",
       "        vertical-align: middle;\n",
       "    }\n",
       "\n",
       "    .dataframe tbody tr th {\n",
       "        vertical-align: top;\n",
       "    }\n",
       "\n",
       "    .dataframe thead th {\n",
       "        text-align: right;\n",
       "    }\n",
       "</style>\n",
       "<table border=\"1\" class=\"dataframe\">\n",
       "  <thead>\n",
       "    <tr style=\"text-align: right;\">\n",
       "      <th></th>\n",
       "      <th>inchi_key</th>\n",
       "    </tr>\n",
       "  </thead>\n",
       "  <tbody>\n",
       "    <tr>\n",
       "      <th>0</th>\n",
       "      <td>RYYVLZVUVIJVGH-UHFFFAOYSA-N</td>\n",
       "    </tr>\n",
       "    <tr>\n",
       "      <th>1</th>\n",
       "      <td>HZZVJAQRINQKSD-RQJHMYQMSA-N</td>\n",
       "    </tr>\n",
       "    <tr>\n",
       "      <th>2</th>\n",
       "      <td>RRTKVYSLIGQWCO-UHFFFAOYSA-N</td>\n",
       "    </tr>\n",
       "    <tr>\n",
       "      <th>3</th>\n",
       "      <td>YAPQBXQYLJRXSA-UHFFFAOYSA-N</td>\n",
       "    </tr>\n",
       "    <tr>\n",
       "      <th>4</th>\n",
       "      <td>SZPBAPFUXAADQV-UHFFFAOYSA-N</td>\n",
       "    </tr>\n",
       "  </tbody>\n",
       "</table>\n",
       "</div>"
      ]
     },
     "execution_count": 29,
     "metadata": {},
     "output_type": "execute_result"
    }
   ],
   "execution_count": 29
  },
  {
   "metadata": {
    "ExecuteTime": {
     "end_time": "2024-09-18T07:55:26.604257Z",
     "start_time": "2024-09-18T07:55:26.542639Z"
    }
   },
   "cell_type": "code",
   "source": "df.tail()",
   "id": "7543fcf809324999",
   "outputs": [
    {
     "data": {
      "text/plain": [
       "                          inchi_key\n",
       "325904  OKYGVTBDEYVSBV-KPPDAEKUSA-N\n",
       "325905  OKYGVTBDEYVSBV-WHXUTIOJSA-N\n",
       "325906  RIHTXYUOTJTDKX-UHFFFAOYSA-N\n",
       "325907  WQOVAHPYNIWPHG-CYBMUJFWSA-N\n",
       "325908  WQOVAHPYNIWPHG-ZDUSSCGKSA-N"
      ],
      "text/html": [
       "<div>\n",
       "<style scoped>\n",
       "    .dataframe tbody tr th:only-of-type {\n",
       "        vertical-align: middle;\n",
       "    }\n",
       "\n",
       "    .dataframe tbody tr th {\n",
       "        vertical-align: top;\n",
       "    }\n",
       "\n",
       "    .dataframe thead th {\n",
       "        text-align: right;\n",
       "    }\n",
       "</style>\n",
       "<table border=\"1\" class=\"dataframe\">\n",
       "  <thead>\n",
       "    <tr style=\"text-align: right;\">\n",
       "      <th></th>\n",
       "      <th>inchi_key</th>\n",
       "    </tr>\n",
       "  </thead>\n",
       "  <tbody>\n",
       "    <tr>\n",
       "      <th>325904</th>\n",
       "      <td>OKYGVTBDEYVSBV-KPPDAEKUSA-N</td>\n",
       "    </tr>\n",
       "    <tr>\n",
       "      <th>325905</th>\n",
       "      <td>OKYGVTBDEYVSBV-WHXUTIOJSA-N</td>\n",
       "    </tr>\n",
       "    <tr>\n",
       "      <th>325906</th>\n",
       "      <td>RIHTXYUOTJTDKX-UHFFFAOYSA-N</td>\n",
       "    </tr>\n",
       "    <tr>\n",
       "      <th>325907</th>\n",
       "      <td>WQOVAHPYNIWPHG-CYBMUJFWSA-N</td>\n",
       "    </tr>\n",
       "    <tr>\n",
       "      <th>325908</th>\n",
       "      <td>WQOVAHPYNIWPHG-ZDUSSCGKSA-N</td>\n",
       "    </tr>\n",
       "  </tbody>\n",
       "</table>\n",
       "</div>"
      ]
     },
     "execution_count": 30,
     "metadata": {},
     "output_type": "execute_result"
    }
   ],
   "execution_count": 30
  },
  {
   "metadata": {
    "ExecuteTime": {
     "end_time": "2024-09-18T07:55:26.747398Z",
     "start_time": "2024-09-18T07:55:26.650347Z"
    }
   },
   "cell_type": "code",
   "source": "df.index.max(), len(df)",
   "id": "363644832d742476",
   "outputs": [
    {
     "data": {
      "text/plain": [
       "(17396070, 17422831)"
      ]
     },
     "execution_count": 31,
     "metadata": {},
     "output_type": "execute_result"
    }
   ],
   "execution_count": 31
  },
  {
   "metadata": {
    "ExecuteTime": {
     "end_time": "2024-09-18T07:55:28.041267Z",
     "start_time": "2024-09-18T07:55:26.871677Z"
    }
   },
   "cell_type": "code",
   "source": "df.index[df.index.duplicated()]",
   "id": "e2f6d4544215fac3",
   "outputs": [
    {
     "data": {
      "text/plain": [
       "Index([     0,      1,      2,      3,      4,      5,      6,      7,      8,\n",
       "            9,\n",
       "       ...\n",
       "       325899, 325900, 325901, 325902, 325903, 325904, 325905, 325906, 325907,\n",
       "       325908],\n",
       "      dtype='int64', length=309919)"
      ]
     },
     "execution_count": 32,
     "metadata": {},
     "output_type": "execute_result"
    }
   ],
   "execution_count": 32
  },
  {
   "metadata": {
    "ExecuteTime": {
     "end_time": "2024-09-18T07:58:02.594437Z",
     "start_time": "2024-09-18T07:58:02.531411Z"
    }
   },
   "cell_type": "code",
   "source": [
    "from rdkit import Chem\n",
    "\n",
    "smiles = ['CO', 'CI', 'CBr', 'CCBr', 'CCI', 'CN', 'CCN', 'C=O', 'CC=O', 'NN']\n",
    "ser = pd.Series(name='inchi_key')\n",
    "for smi in smiles:\n",
    "    mol = Chem.MolFromSmiles(smi)\n",
    "    Chem.SanitizeMol(mol)\n",
    "    ser.loc[len(ser)] = Chem.MolToInchiKey(mol)\n",
    "    print(\"%5s %s\" % (smi, ser.iloc[-1]))"
   ],
   "id": "aa059c39343a154e",
   "outputs": [
    {
     "name": "stdout",
     "output_type": "stream",
     "text": [
      "   CO OKKJLVBELUTLKV-UHFFFAOYSA-N\n",
      "   CI INQOMBQAUSQDDS-UHFFFAOYSA-N\n",
      "  CBr GZUXJHMPEANEGY-UHFFFAOYSA-N\n",
      " CCBr RDHPKYGYEGBMSE-UHFFFAOYSA-N\n",
      "  CCI HVTICUPFWKNHNG-UHFFFAOYSA-N\n",
      "   CN BAVYZALUXZFZLV-UHFFFAOYSA-N\n",
      "  CCN QUSNBJAOOMFDIB-UHFFFAOYSA-N\n",
      "  C=O WSFSSNUMVMOOMR-UHFFFAOYSA-N\n",
      " CC=O IKHGUXGNUITLKF-UHFFFAOYSA-N\n",
      "   NN OAKJQQAXSVQMHS-UHFFFAOYSA-N\n"
     ]
    }
   ],
   "execution_count": 42
  },
  {
   "metadata": {
    "ExecuteTime": {
     "end_time": "2024-09-18T07:58:11.758574Z",
     "start_time": "2024-09-18T07:58:09.766663Z"
    }
   },
   "cell_type": "code",
   "source": "mask = ser.isin(df.inchi_key)",
   "id": "76f4227377612721",
   "outputs": [],
   "execution_count": 44
  },
  {
   "metadata": {
    "ExecuteTime": {
     "end_time": "2024-09-18T07:58:13.772985Z",
     "start_time": "2024-09-18T07:58:13.706220Z"
    }
   },
   "cell_type": "code",
   "source": "ser[~mask]",
   "id": "9bddca3597ba0494",
   "outputs": [
    {
     "data": {
      "text/plain": [
       "0    OKKJLVBELUTLKV-UHFFFAOYSA-N\n",
       "1    INQOMBQAUSQDDS-UHFFFAOYSA-N\n",
       "2    GZUXJHMPEANEGY-UHFFFAOYSA-N\n",
       "3    RDHPKYGYEGBMSE-UHFFFAOYSA-N\n",
       "4    HVTICUPFWKNHNG-UHFFFAOYSA-N\n",
       "5    BAVYZALUXZFZLV-UHFFFAOYSA-N\n",
       "6    QUSNBJAOOMFDIB-UHFFFAOYSA-N\n",
       "7    WSFSSNUMVMOOMR-UHFFFAOYSA-N\n",
       "8    IKHGUXGNUITLKF-UHFFFAOYSA-N\n",
       "9    OAKJQQAXSVQMHS-UHFFFAOYSA-N\n",
       "Name: inchi_key, dtype: object"
      ]
     },
     "execution_count": 45,
     "metadata": {},
     "output_type": "execute_result"
    }
   ],
   "execution_count": 45
  },
  {
   "metadata": {
    "ExecuteTime": {
     "end_time": "2024-09-18T07:58:24.319867Z",
     "start_time": "2024-09-18T07:58:24.054925Z"
    }
   },
   "cell_type": "code",
   "source": "pd.concat([df, ser[~mask]], axis=0).shape",
   "id": "c8c6a2813af0574a",
   "outputs": [
    {
     "data": {
      "text/plain": [
       "(17422841, 1)"
      ]
     },
     "execution_count": 47,
     "metadata": {},
     "output_type": "execute_result"
    }
   ],
   "execution_count": 47
  },
  {
   "metadata": {
    "ExecuteTime": {
     "end_time": "2024-09-18T07:58:30.438792Z",
     "start_time": "2024-09-18T07:58:30.369027Z"
    }
   },
   "cell_type": "code",
   "source": "Chem.MolToInchiKey(mol)",
   "id": "abf247d5750ddbf0",
   "outputs": [
    {
     "data": {
      "text/plain": [
       "'OAKJQQAXSVQMHS-UHFFFAOYSA-N'"
      ]
     },
     "execution_count": 48,
     "metadata": {},
     "output_type": "execute_result"
    }
   ],
   "execution_count": 48
  },
  {
   "metadata": {
    "ExecuteTime": {
     "end_time": "2024-09-18T07:58:43.445224Z",
     "start_time": "2024-09-18T07:58:37.555628Z"
    }
   },
   "cell_type": "code",
   "source": [
    "with pd.HDFStore('config/zinc_stock.hdf5', 'w') as store:\n",
    "    store.put('/table', df)"
   ],
   "id": "a1904f97172ad9d4",
   "outputs": [],
   "execution_count": 49
  },
  {
   "metadata": {},
   "cell_type": "code",
   "outputs": [],
   "execution_count": null,
   "source": "",
   "id": "f226a976061282d8"
  },
  {
   "metadata": {
    "ExecuteTime": {
     "end_time": "2024-09-18T08:03:43.896117Z",
     "start_time": "2024-09-18T08:03:10.974897Z"
    }
   },
   "cell_type": "code",
   "source": [
    "import pandas as pd\n",
    "from rdkit import Chem\n",
    "\n",
    "smiles = ['CO', 'CI', 'CBr', 'CCBr', 'CCI', 'CN', 'CCN', 'C=O', 'CC=O', 'NN']\n",
    "\n",
    "with pd.HDFStore('config/zinc_stock.hdf5', 'r') as store:\n",
    "    df = store.get('/table')\n",
    "    \n",
    "ser = pd.Series(name='inchi_key')\n",
    "for smi in smiles:\n",
    "    mol = Chem.MolFromSmiles(smi)\n",
    "    Chem.SanitizeMol(mol)\n",
    "    ser.loc[len(ser)] = Chem.MolToInchiKey(mol)    \n",
    "mask = ~(ser.isin(df.inchi_key))\n",
    "df = pd.concat([df, ser[mask]], axis=0)\n",
    "\n",
    "with pd.HDFStore('config/zinc_stock.hdf5', 'w') as store:\n",
    "    store.put('/table', df)\n",
    "    print(mask.sum(), 'compounds added')"
   ],
   "id": "55a0d00c8f2594ab",
   "outputs": [
    {
     "name": "stdout",
     "output_type": "stream",
     "text": [
      "10 compounds added\n"
     ]
    }
   ],
   "execution_count": 52
  }
 ],
 "metadata": {
  "kernelspec": {
   "display_name": "aiz",
   "language": "python",
   "name": "aiz"
  },
  "language_info": {
   "codemirror_mode": {
    "name": "ipython",
    "version": 2
   },
   "file_extension": ".py",
   "mimetype": "text/x-python",
   "name": "python",
   "nbconvert_exporter": "python",
   "pygments_lexer": "ipython2",
   "version": "2.7.6"
  }
 },
 "nbformat": 4,
 "nbformat_minor": 5
}
