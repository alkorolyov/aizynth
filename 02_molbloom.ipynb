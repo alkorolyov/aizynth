{
 "cells": [
  {
   "cell_type": "code",
   "id": "initial_id",
   "metadata": {
    "collapsed": true,
    "ExecuteTime": {
     "end_time": "2024-07-18T09:10:27.034584Z",
     "start_time": "2024-07-18T09:10:27.009082Z"
    }
   },
   "source": [
    "from molbloom import buy\n",
    "from rdkit import Chem"
   ],
   "outputs": [],
   "execution_count": 17
  },
  {
   "metadata": {
    "ExecuteTime": {
     "end_time": "2024-07-18T09:10:27.881745Z",
     "start_time": "2024-07-18T09:10:27.852789Z"
    }
   },
   "cell_type": "code",
   "source": [
    "smi = 'N1C(C(C(C1)C)C)C'\n",
    "smi = 'Clc1nc(cc(c1F)C#N)C'\n",
    "smi = 'S1C(=CC(N)=C1)C'\n",
    "smi = 'OCC(C1CC1)C'\n",
    "\n",
    "print(buy(smi, canonicalize=True, catalog='zinc20'))\n",
    "print(buy(smi, canonicalize=True))\n",
    "Chem.MolFromSmiles(smi)"
   ],
   "id": "9dc91dad69d11135",
   "outputs": [
    {
     "name": "stdout",
     "output_type": "stream",
     "text": [
      "True\n"
     ]
    },
    {
     "data": {
      "text/plain": [
       "<rdkit.Chem.rdchem.Mol at 0x25faa890f20>"
      ],
      "image/png": "[encoded data removed]"
     },
     "execution_count": 18,
     "metadata": {},
     "output_type": "execute_result"
    }
   ],
   "execution_count": 18
  },
  {
   "metadata": {
    "ExecuteTime": {
     "end_time": "2024-07-17T08:35:11.823802Z",
     "start_time": "2024-07-17T08:35:11.810764Z"
    }
   },
   "cell_type": "code",
   "source": [
    "from rdkit.Chem.MolStandardize import rdMolStandardize\n",
    "smi = 'CC(N=C1NC(C)=CC(C#N)=C1F)C(C)(C)C'\n",
    "mol = Chem.MolFromSmiles(smi)\n",
    "m = rdMolStandardize.TautomerParent(mol)\n",
    "\n",
    "Chem.MolToSmiles(m)"
   ],
   "id": "a2aba6f401bae2f2",
   "outputs": [
    {
     "name": "stderr",
     "output_type": "stream",
     "text": [
      "[10:35:11] Initializing MetalDisconnector\n",
      "[10:35:11] Running MetalDisconnector\n",
      "[10:35:11] Initializing Normalizer\n",
      "[10:35:11] Running Normalizer\n",
      "[10:35:11] Initializing MetalDisconnector\n",
      "[10:35:11] Running MetalDisconnector\n",
      "[10:35:11] Initializing Normalizer\n",
      "[10:35:11] Running Normalizer\n"
     ]
    },
    {
     "data": {
      "text/plain": [
       "'Cc1cc(C#N)c(F)c(NC(C)C(C)(C)C)n1'"
      ]
     },
     "execution_count": 13,
     "metadata": {},
     "output_type": "execute_result"
    }
   ],
   "execution_count": 13
  }
 ],
 "metadata": {
  "kernelspec": {
   "display_name": "aiz",
   "language": "python",
   "name": "aiz"
  },
  "language_info": {
   "codemirror_mode": {
    "name": "ipython",
    "version": 2
   },
   "file_extension": ".py",
   "mimetype": "text/x-python",
   "name": "python",
   "nbconvert_exporter": "python",
   "pygments_lexer": "ipython2",
   "version": "2.7.6"
  }
 },
 "nbformat": 4,
 "nbformat_minor": 5
}
