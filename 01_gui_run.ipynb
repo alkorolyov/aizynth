{
 "cells": [
  {
   "cell_type": "code",
   "execution_count": 6,
   "id": "00387bf1",
   "metadata": {
    "ExecuteTime": {
     "end_time": "2024-07-17T06:37:18.730870Z",
     "start_time": "2024-07-17T06:37:10.911753Z"
    }
   },
   "outputs": [
    {
     "name": "stdout",
     "output_type": "stream",
     "text": [
      "Loading template-based expansion policy model from C:\\Users\\alexander.korolyov\\PycharmProjects\\aizynth\\config\\uspto_model.onnx to uspto\n",
      "Loading templates from C:\\Users\\alexander.korolyov\\PycharmProjects\\aizynth\\config\\uspto_templates.csv.gz to uspto\n",
      "Loading template-based expansion policy model from C:\\Users\\alexander.korolyov\\PycharmProjects\\aizynth\\config\\uspto_ringbreaker_model.onnx to ringbreaker\n",
      "Loading templates from C:\\Users\\alexander.korolyov\\PycharmProjects\\aizynth\\config\\uspto_ringbreaker_templates.csv.gz to ringbreaker\n",
      "Loading filter policy model from C:\\Users\\alexander.korolyov\\PycharmProjects\\aizynth\\config\\uspto_filter_model.onnx to uspto\n",
      "Loading stock from InMemoryInchiKeyQuery to zinc\n"
     ]
    },
    {
     "data": {
      "application/vnd.jupyter.widget-view+json": {
       "model_id": "2ac2e2ab5f0c447bb70c203e15a609db",
       "version_major": 2,
       "version_minor": 0
      },
      "text/plain": [
       "Text(value='', continuous_update=False, description='SMILES')"
      ]
     },
     "metadata": {},
     "output_type": "display_data"
    },
    {
     "data": {
      "application/vnd.jupyter.widget-view+json": {
       "model_id": "fdb6a564af4443ceb34da4623163bce4",
       "version_major": 2,
       "version_minor": 0
      },
      "text/plain": [
       "Output(layout=Layout(border='1px solid silver', height='180px', width='50%'))"
      ]
     },
     "metadata": {},
     "output_type": "display_data"
    },
    {
     "data": {
      "application/vnd.jupyter.widget-view+json": {
       "model_id": "213ceddcf1584e5697ab97509341ac79",
       "version_major": 2,
       "version_minor": 0
      },
      "text/plain": [
       "HBox(children=(VBox(children=(Label(value='Stocks'), Checkbox(value=True, description='zinc', style=Descriptio…"
      ]
     },
     "metadata": {},
     "output_type": "display_data"
    },
    {
     "data": {
      "application/vnd.jupyter.widget-view+json": {
       "model_id": "dd6d1b5f9acb4c63ab202ded4fdd0826",
       "version_major": 2,
       "version_minor": 0
      },
      "text/plain": [
       "HBox(children=(Button(description='Run Search', style=ButtonStyle()), Button(description='Extend Search', styl…"
      ]
     },
     "metadata": {},
     "output_type": "display_data"
    },
    {
     "data": {
      "application/vnd.jupyter.widget-view+json": {
       "model_id": "586082ac44d849789201d435f3ea2b15",
       "version_major": 2,
       "version_minor": 0
      },
      "text/plain": [
       "Output(layout=Layout(border='1px solid silver', height='320px', overflow='auto', width='99%'))"
      ]
     },
     "metadata": {},
     "output_type": "display_data"
    },
    {
     "data": {
      "application/vnd.jupyter.widget-view+json": {
       "model_id": "851cf737375c49a894baad4aebdf8f8d",
       "version_major": 2,
       "version_minor": 0
      },
      "text/plain": [
       "HBox(children=(Button(description='Show Routes', style=ButtonStyle()), Dropdown(description='Routes: ', disabl…"
      ]
     },
     "metadata": {},
     "output_type": "display_data"
    },
    {
     "data": {
      "application/vnd.jupyter.widget-view+json": {
       "model_id": "34f78c2c4cc14c55ba96b52316addf25",
       "version_major": 2,
       "version_minor": 0
      },
      "text/plain": [
       "Output(layout=Layout(border='1px solid silver', overflow='auto', width='99%'))"
      ]
     },
     "metadata": {},
     "output_type": "display_data"
    },
    {
     "data": {
      "application/vnd.jupyter.widget-view+json": {
       "model_id": "c472c0e7b238484bab51ffe7af59146a",
       "version_major": 2,
       "version_minor": 0
      },
      "text/plain": [
       "Output(layout=Layout(border='1px solid silver', width='99%'))"
      ]
     },
     "metadata": {},
     "output_type": "display_data"
    }
   ],
   "source": [
    "from aizynthfinder.interfaces import AiZynthApp\n",
    "app = AiZynthApp(\"config/config.yml\")\n",
    "smi = 'CC1=NC(CC(=O)N2CCC2(C)C)=C(C)S1'"
   ]
  },
  {
   "metadata": {},
   "cell_type": "code",
   "outputs": [],
   "execution_count": null,
   "source": "",
   "id": "4b2c1b28b989fe98"
  }
 ],
 "metadata": {
  "kernelspec": {
   "display_name": "aiz",
   "language": "python",
   "name": "aiz"
  },
  "language_info": {
   "codemirror_mode": {
    "name": "ipython",
    "version": 3
   },
   "file_extension": ".py",
   "mimetype": "text/x-python",
   "name": "python",
   "nbconvert_exporter": "python",
   "pygments_lexer": "ipython3",
   "version": "3.10.14"
  }
 },
 "nbformat": 4,
 "nbformat_minor": 5
}
