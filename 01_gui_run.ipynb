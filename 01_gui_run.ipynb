{
 "cells": [
  {
   "cell_type": "code",
   "id": "00387bf1",
   "metadata": {
    "ExecuteTime": {
     "end_time": "2024-09-17T11:11:55.699530Z",
     "start_time": "2024-09-17T11:11:55.157854Z"
    }
   },
   "source": [
    "from aizynthfinder.interfaces import AiZynthApp\n",
    "app = AiZynthApp(\"config/config.yml\")\n",
    "smi = 'CC1=NC(CC(=O)N2CCC2(C)C)=C(C)S1'"
   ],
   "outputs": [
    {
     "ename": "TypeError",
     "evalue": "AiZynthApp.__init__() missing 1 required positional argument: 'configfile'",
     "output_type": "error",
     "traceback": [
      "\u001B[1;31m---------------------------------------------------------------------------\u001B[0m",
      "\u001B[1;31mTypeError\u001B[0m                                 Traceback (most recent call last)",
      "Cell \u001B[1;32mIn[2], line 2\u001B[0m\n\u001B[0;32m      1\u001B[0m \u001B[38;5;28;01mfrom\u001B[39;00m \u001B[38;5;21;01maizynthfinder\u001B[39;00m\u001B[38;5;21;01m.\u001B[39;00m\u001B[38;5;21;01minterfaces\u001B[39;00m \u001B[38;5;28;01mimport\u001B[39;00m AiZynthApp\n\u001B[1;32m----> 2\u001B[0m app \u001B[38;5;241m=\u001B[39m \u001B[43mAiZynthApp\u001B[49m\u001B[43m(\u001B[49m\u001B[43m)\u001B[49m\n\u001B[0;32m      3\u001B[0m smi \u001B[38;5;241m=\u001B[39m \u001B[38;5;124m'\u001B[39m\u001B[38;5;124mCC1=NC(CC(=O)N2CCC2(C)C)=C(C)S1\u001B[39m\u001B[38;5;124m'\u001B[39m\n",
      "\u001B[1;31mTypeError\u001B[0m: AiZynthApp.__init__() missing 1 required positional argument: 'configfile'"
     ]
    }
   ],
   "execution_count": 2
  }
 ],
 "metadata": {
  "kernelspec": {
   "display_name": "aiz",
   "language": "python",
   "name": "aiz"
  },
  "language_info": {
   "codemirror_mode": {
    "name": "ipython",
    "version": 3
   },
   "file_extension": ".py",
   "mimetype": "text/x-python",
   "name": "python",
   "nbconvert_exporter": "python",
   "pygments_lexer": "ipython3",
   "version": "3.10.14"
  }
 },
 "nbformat": 4,
 "nbformat_minor": 5
}
