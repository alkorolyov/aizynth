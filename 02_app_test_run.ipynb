{
 "cells": [
  {
   "cell_type": "code",
   "id": "initial_id",
   "metadata": {
    "collapsed": true,
    "ExecuteTime": {
     "end_time": "2024-10-02T08:31:16.111107Z",
     "start_time": "2024-10-02T08:31:15.907227Z"
    }
   },
   "source": [
    "%load_ext autoreload\n",
    "%autoreload 2"
   ],
   "outputs": [
    {
     "name": "stdout",
     "output_type": "stream",
     "text": [
      "The autoreload extension is already loaded. To reload it, use:\n",
      "  %reload_ext autoreload\n"
     ]
    }
   ],
   "execution_count": 107
  },
  {
   "metadata": {
    "ExecuteTime": {
     "end_time": "2024-10-02T06:45:27.610956Z",
     "start_time": "2024-10-02T06:45:27.409351Z"
    }
   },
   "cell_type": "code",
   "source": [
    "from rdkit import Chem\n",
    "from IPython.display import display"
   ],
   "id": "2bd7dd3c3e6dd5b6",
   "outputs": [],
   "execution_count": 75
  },
  {
   "metadata": {
    "ExecuteTime": {
     "end_time": "2024-10-02T08:38:41.334657Z",
     "start_time": "2024-10-02T08:38:40.640139Z"
    }
   },
   "cell_type": "code",
   "source": [
    "from aizynthfinder.aizynthfinder import AiZynthFinder\n",
    "\n",
    "finder = AiZynthFinder(\"config/config.yml\")"
   ],
   "id": "9513a4990716560a",
   "outputs": [],
   "execution_count": 127
  },
  {
   "metadata": {
    "ExecuteTime": {
     "end_time": "2024-10-02T08:38:42.583555Z",
     "start_time": "2024-10-02T08:38:42.365850Z"
    }
   },
   "cell_type": "code",
   "source": [
    "# finder.stock.selection = 'molport_3d'\n",
    "# finder.stock.selection = 'molport_5d'\n",
    "finder.stock.selection = 'molport_7d'\n",
    "# finder.stock.selection = 'zinc'\n",
    "finder.config.expansion_policy.selection = 'uspto'\n",
    "finder.config.filter_policy.selection = 'uspto'"
   ],
   "id": "9ad5d5067f136ee8",
   "outputs": [],
   "execution_count": 128
  },
  {
   "metadata": {
    "ExecuteTime": {
     "end_time": "2024-10-02T08:38:43.731604Z",
     "start_time": "2024-10-02T08:38:43.503092Z"
    }
   },
   "cell_type": "code",
   "source": [
    "finder.config.search.time_limit = 120\n",
    "finder.config.search.iteration_limit = 5000\n",
    "finder.config.search.max_transforms = 6\n",
    "finder.config.search.return_first = False"
   ],
   "id": "3f43b968757123ac",
   "outputs": [],
   "execution_count": 129
  },
  {
   "metadata": {
    "ExecuteTime": {
     "end_time": "2024-10-02T08:40:48.243103Z",
     "start_time": "2024-10-02T08:38:47.952511Z"
    }
   },
   "cell_type": "code",
   "source": [
    "# gdb17\n",
    "# smi = \"CCN(C)C(C)(C)C1=NN(CC(C)C)N=C1\"\n",
    "# smi = \"CCCC(O)C1=CC=NC=C1C1N=COC1C\"\n",
    "# smi = \"CCN(C1=NC(CO)=CC=C1Cl)C(C)(C)C\"\n",
    "# smi = \"CCC(C)N(CC1=CN=CO1)CC1=CNC=C1\"\n",
    "# smi = \"CC(OC1=CC=CN=C1C1=NC(C)=NO1)C#N\"\n",
    "# smi = \"CC(=O)NC1=NC=C(C)C=C1C1=CSN=C1O\"\n",
    "\n",
    "# chembl\n",
    "smi = \"CCCCCCN(C)Cc1cc(N)ccc1O\"\n",
    "smi = \"CNc1cc(-c2ccc(OC)nc2)ncn1\"\n",
    "smi = \"OC(Cn1ccnc1)C(O)Cn1ccnc1\"\n",
    "\n",
    "display(Chem.MolFromSmiles(smi))\n",
    "\n",
    "finder.target_smiles = smi\n",
    "finder.prepare_tree()\n",
    "finder.tree_search(show_progress=True)"
   ],
   "id": "7f5e08134a3ba54b",
   "outputs": [
    {
     "data": {
      "text/plain": [
       "<rdkit.Chem.rdchem.Mol at 0x27ec1031230>"
      ],
      "image/png": "[encoded data removed]"
     },
     "metadata": {},
     "output_type": "display_data"
    },
    {
     "name": "stderr",
     "output_type": "stream",
     "text": [
      "                                                   \r"
     ]
    },
    {
     "data": {
      "text/plain": [
       "120.05557465553284"
      ]
     },
     "execution_count": 130,
     "metadata": {},
     "output_type": "execute_result"
    }
   ],
   "execution_count": 130
  },
  {
   "metadata": {
    "ExecuteTime": {
     "end_time": "2024-10-02T08:40:48.619901Z",
     "start_time": "2024-10-02T08:40:48.355811Z"
    }
   },
   "cell_type": "code",
   "source": "finder.search_stats",
   "id": "c17dfe72763f32f1",
   "outputs": [
    {
     "data": {
      "text/plain": [
       "{'returned_first': False,\n",
       " 'iterations': 1767,\n",
       " 'first_solution_time': 0.5788452625274658,\n",
       " 'first_solution_iteration': 5,\n",
       " 'time': 120.05557465553284}"
      ]
     },
     "execution_count": 131,
     "metadata": {},
     "output_type": "execute_result"
    }
   ],
   "execution_count": 131
  },
  {
   "metadata": {
    "ExecuteTime": {
     "end_time": "2024-10-02T08:41:43.888546Z",
     "start_time": "2024-10-02T08:41:43.473639Z"
    }
   },
   "cell_type": "code",
   "source": [
    "rewards = finder.config.search.algorithm_config[\"search_rewards\"]\n",
    "finder.build_routes(scorer=rewards)\n",
    "print('Solved', len([r for r in finder.routes if r['route_metadata']['is_solved']]))\n",
    "finder.routes[8]['reaction_tree'].to_image(inverse=True)"
   ],
   "id": "36af50b94830edd2",
   "outputs": [
    {
     "name": "stdout",
     "output_type": "stream",
     "text": [
      "Solved 8\n"
     ]
    },
    {
     "ename": "IndexError",
     "evalue": "Index out of range",
     "output_type": "error",
     "traceback": [
      "\u001B[1;31m---------------------------------------------------------------------------\u001B[0m",
      "\u001B[1;31mIndexError\u001B[0m                                Traceback (most recent call last)",
      "Cell \u001B[1;32mIn[142], line 4\u001B[0m\n\u001B[0;32m      2\u001B[0m finder\u001B[38;5;241m.\u001B[39mbuild_routes(scorer\u001B[38;5;241m=\u001B[39mrewards)\n\u001B[0;32m      3\u001B[0m \u001B[38;5;28mprint\u001B[39m(\u001B[38;5;124m'\u001B[39m\u001B[38;5;124mSolved\u001B[39m\u001B[38;5;124m'\u001B[39m, \u001B[38;5;28mlen\u001B[39m([r \u001B[38;5;28;01mfor\u001B[39;00m r \u001B[38;5;129;01min\u001B[39;00m finder\u001B[38;5;241m.\u001B[39mroutes \u001B[38;5;28;01mif\u001B[39;00m r[\u001B[38;5;124m'\u001B[39m\u001B[38;5;124mroute_metadata\u001B[39m\u001B[38;5;124m'\u001B[39m][\u001B[38;5;124m'\u001B[39m\u001B[38;5;124mis_solved\u001B[39m\u001B[38;5;124m'\u001B[39m]]))\n\u001B[1;32m----> 4\u001B[0m \u001B[43mfinder\u001B[49m\u001B[38;5;241;43m.\u001B[39;49m\u001B[43mroutes\u001B[49m\u001B[43m[\u001B[49m\u001B[38;5;241;43m8\u001B[39;49m\u001B[43m]\u001B[49m[\u001B[38;5;124m'\u001B[39m\u001B[38;5;124mreaction_tree\u001B[39m\u001B[38;5;124m'\u001B[39m]\u001B[38;5;241m.\u001B[39mto_image(inverse\u001B[38;5;241m=\u001B[39m\u001B[38;5;28;01mTrue\u001B[39;00m)\n",
      "File \u001B[1;32m~\\miniforge3\\envs\\aiz\\lib\\site-packages\\aizynthfinder\\analysis\\routes.py:113\u001B[0m, in \u001B[0;36mRouteCollection.__getitem__\u001B[1;34m(self, index)\u001B[0m\n\u001B[0;32m    111\u001B[0m \u001B[38;5;28;01mdef\u001B[39;00m \u001B[38;5;21m__getitem__\u001B[39m(\u001B[38;5;28mself\u001B[39m, index: \u001B[38;5;28mint\u001B[39m) \u001B[38;5;241m-\u001B[39m\u001B[38;5;241m>\u001B[39m StrDict:\n\u001B[0;32m    112\u001B[0m     \u001B[38;5;28;01mif\u001B[39;00m index \u001B[38;5;241m<\u001B[39m \u001B[38;5;241m0\u001B[39m \u001B[38;5;129;01mor\u001B[39;00m index \u001B[38;5;241m>\u001B[39m\u001B[38;5;241m=\u001B[39m \u001B[38;5;28mlen\u001B[39m(\u001B[38;5;28mself\u001B[39m):\n\u001B[1;32m--> 113\u001B[0m         \u001B[38;5;28;01mraise\u001B[39;00m \u001B[38;5;167;01mIndexError\u001B[39;00m(\u001B[38;5;124m\"\u001B[39m\u001B[38;5;124mIndex out of range\u001B[39m\u001B[38;5;124m\"\u001B[39m)\n\u001B[0;32m    114\u001B[0m     \u001B[38;5;28;01mreturn\u001B[39;00m \u001B[38;5;28mself\u001B[39m\u001B[38;5;241m.\u001B[39m_routes[index]\n",
      "\u001B[1;31mIndexError\u001B[0m: Index out of range"
     ]
    }
   ],
   "execution_count": 142
  }
 ],
 "metadata": {
  "kernelspec": {
   "display_name": "aiz",
   "language": "python",
   "name": "aiz"
  },
  "language_info": {
   "codemirror_mode": {
    "name": "ipython",
    "version": 2
   },
   "file_extension": ".py",
   "mimetype": "text/x-python",
   "name": "python",
   "nbconvert_exporter": "python",
   "pygments_lexer": "ipython2",
   "version": "2.7.6"
  }
 },
 "nbformat": 4,
 "nbformat_minor": 5
}
