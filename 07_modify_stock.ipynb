{
 "cells": [
  {
   "metadata": {},
   "cell_type": "code",
   "outputs": [],
   "execution_count": null,
   "source": [
    "import pandas as pd\n",
    "from rdkit import Chem\n",
    "\n",
    "smiles_to_add = ['CO', 'CI', 'CBr', 'CCBr', 'CCI', 'CN', 'CCN', 'C=O', 'CC=O', 'NN']\n",
    "\n",
    "with pd.HDFStore('config/zinc_stock.hdf5', 'r') as store:\n",
    "    df = store.get('/table')\n",
    "    \n",
    "ser = pd.Series(name='inchi_key')\n",
    "for smi in smiles_to_add:\n",
    "    mol = Chem.MolFromSmiles(smi)\n",
    "    Chem.SanitizeMol(mol)\n",
    "    ser.loc[len(ser)] = Chem.MolToInchiKey(mol)    \n",
    "mask = ~(ser.isin(df.inchi_key))\n",
    "df = pd.concat([df, ser[mask]], axis=0)\n",
    "\n",
    "with pd.HDFStore('config/zinc_stock.hdf5', 'w') as store:\n",
    "    store.put('/table', df)\n",
    "    print(mask.sum(), 'compounds added')"
   ],
   "id": "b7a5993a065dcf84"
  },
  {
   "metadata": {},
   "cell_type": "code",
   "outputs": [],
   "execution_count": null,
   "source": "",
   "id": "3654c1bf53bb9937"
  },
  {
   "metadata": {},
   "cell_type": "code",
   "outputs": [],
   "execution_count": null,
   "source": "",
   "id": "cde62e178ca85145"
  },
  {
   "metadata": {},
   "cell_type": "code",
   "outputs": [],
   "execution_count": null,
   "source": "",
   "id": "5c1f565fe1f73d00"
  },
  {
   "metadata": {},
   "cell_type": "code",
   "outputs": [],
   "execution_count": null,
   "source": "",
   "id": "dde62179269f244e"
  },
  {
   "metadata": {
    "ExecuteTime": {
     "end_time": "2024-09-18T07:54:57.494085Z",
     "start_time": "2024-09-18T07:54:57.430525Z"
    }
   },
   "cell_type": "code",
   "source": [
    "import pandas as pd\n",
    "\n",
    "with pd.HDFStore('config/zinc_stock.hdf5', 'r') as store:\n",
    "    print(store.info())\n",
    "    print(store.keys())"
   ],
   "id": "eb777a81b08a0d6e",
   "outputs": [
    {
     "name": "stdout",
     "output_type": "stream",
     "text": [
      "<class 'pandas.io.pytables.HDFStore'>\n",
      "File path: config/zinc_stock.hdf5\n",
      "/                 [invalid_HDFStore node: group ``/table`` does not have a child named ``description``]\n",
      "/table            frame        (shape->[1,1])                                                          \n",
      "['/', '/table']\n"
     ]
    }
   ],
   "execution_count": 27
  },
  {
   "metadata": {
    "ExecuteTime": {
     "end_time": "2024-09-18T07:55:26.320211Z",
     "start_time": "2024-09-18T07:55:01.575594Z"
    }
   },
   "cell_type": "code",
   "source": [
    "with pd.HDFStore('config/zinc_stock.hdf5', 'r') as store:\n",
    "    df = store.get('/table')    \n",
    "\n",
    "df.info()"
   ],
   "id": "34db9b64a5fcfea9",
   "outputs": [
    {
     "name": "stdout",
     "output_type": "stream",
     "text": [
      "<class 'pandas.core.frame.DataFrame'>\n",
      "Index: 17422831 entries, 0 to 325908\n",
      "Data columns (total 1 columns):\n",
      " #   Column     Dtype \n",
      "---  ------     ----- \n",
      " 0   inchi_key  object\n",
      "dtypes: object(1)\n",
      "memory usage: 265.9+ MB\n"
     ]
    }
   ],
   "execution_count": 28
  },
  {
   "metadata": {
    "ExecuteTime": {
     "end_time": "2024-09-18T07:55:26.478535Z",
     "start_time": "2024-09-18T07:55:26.415965Z"
    }
   },
   "cell_type": "code",
   "source": "df.head()",
   "id": "a98fab26be796bcd",
   "outputs": [
    {
     "data": {
      "text/plain": [
       "                     inchi_key\n",
       "0  RYYVLZVUVIJVGH-UHFFFAOYSA-N\n",
       "1  HZZVJAQRINQKSD-RQJHMYQMSA-N\n",
       "2  RRTKVYSLIGQWCO-UHFFFAOYSA-N\n",
       "3  YAPQBXQYLJRXSA-UHFFFAOYSA-N\n",
       "4  SZPBAPFUXAADQV-UHFFFAOYSA-N"
      ],
      "text/html": [
       "<div>\n",
       "<style scoped>\n",
       "    .dataframe tbody tr th:only-of-type {\n",
       "        vertical-align: middle;\n",
       "    }\n",
       "\n",
       "    .dataframe tbody tr th {\n",
       "        vertical-align: top;\n",
       "    }\n",
       "\n",
       "    .dataframe thead th {\n",
       "        text-align: right;\n",
       "    }\n",
       "</style>\n",
       "<table border=\"1\" class=\"dataframe\">\n",
       "  <thead>\n",
       "    <tr style=\"text-align: right;\">\n",
       "      <th></th>\n",
       "      <th>inchi_key</th>\n",
       "    </tr>\n",
       "  </thead>\n",
       "  <tbody>\n",
       "    <tr>\n",
       "      <th>0</th>\n",
       "      <td>RYYVLZVUVIJVGH-UHFFFAOYSA-N</td>\n",
       "    </tr>\n",
       "    <tr>\n",
       "      <th>1</th>\n",
       "      <td>HZZVJAQRINQKSD-RQJHMYQMSA-N</td>\n",
       "    </tr>\n",
       "    <tr>\n",
       "      <th>2</th>\n",
       "      <td>RRTKVYSLIGQWCO-UHFFFAOYSA-N</td>\n",
       "    </tr>\n",
       "    <tr>\n",
       "      <th>3</th>\n",
       "      <td>YAPQBXQYLJRXSA-UHFFFAOYSA-N</td>\n",
       "    </tr>\n",
       "    <tr>\n",
       "      <th>4</th>\n",
       "      <td>SZPBAPFUXAADQV-UHFFFAOYSA-N</td>\n",
       "    </tr>\n",
       "  </tbody>\n",
       "</table>\n",
       "</div>"
      ]
     },
     "execution_count": 29,
     "metadata": {},
     "output_type": "execute_result"
    }
   ],
   "execution_count": 29
  },
  {
   "metadata": {
    "ExecuteTime": {
     "end_time": "2024-09-18T07:55:26.604257Z",
     "start_time": "2024-09-18T07:55:26.542639Z"
    }
   },
   "cell_type": "code",
   "source": "df.tail()",
   "id": "7543fcf809324999",
   "outputs": [
    {
     "data": {
      "text/plain": [
       "                          inchi_key\n",
       "325904  OKYGVTBDEYVSBV-KPPDAEKUSA-N\n",
       "325905  OKYGVTBDEYVSBV-WHXUTIOJSA-N\n",
       "325906  RIHTXYUOTJTDKX-UHFFFAOYSA-N\n",
       "325907  WQOVAHPYNIWPHG-CYBMUJFWSA-N\n",
       "325908  WQOVAHPYNIWPHG-ZDUSSCGKSA-N"
      ],
      "text/html": [
       "<div>\n",
       "<style scoped>\n",
       "    .dataframe tbody tr th:only-of-type {\n",
       "        vertical-align: middle;\n",
       "    }\n",
       "\n",
       "    .dataframe tbody tr th {\n",
       "        vertical-align: top;\n",
       "    }\n",
       "\n",
       "    .dataframe thead th {\n",
       "        text-align: right;\n",
       "    }\n",
       "</style>\n",
       "<table border=\"1\" class=\"dataframe\">\n",
       "  <thead>\n",
       "    <tr style=\"text-align: right;\">\n",
       "      <th></th>\n",
       "      <th>inchi_key</th>\n",
       "    </tr>\n",
       "  </thead>\n",
       "  <tbody>\n",
       "    <tr>\n",
       "      <th>325904</th>\n",
       "      <td>OKYGVTBDEYVSBV-KPPDAEKUSA-N</td>\n",
       "    </tr>\n",
       "    <tr>\n",
       "      <th>325905</th>\n",
       "      <td>OKYGVTBDEYVSBV-WHXUTIOJSA-N</td>\n",
       "    </tr>\n",
       "    <tr>\n",
       "      <th>325906</th>\n",
       "      <td>RIHTXYUOTJTDKX-UHFFFAOYSA-N</td>\n",
       "    </tr>\n",
       "    <tr>\n",
       "      <th>325907</th>\n",
       "      <td>WQOVAHPYNIWPHG-CYBMUJFWSA-N</td>\n",
       "    </tr>\n",
       "    <tr>\n",
       "      <th>325908</th>\n",
       "      <td>WQOVAHPYNIWPHG-ZDUSSCGKSA-N</td>\n",
       "    </tr>\n",
       "  </tbody>\n",
       "</table>\n",
       "</div>"
      ]
     },
     "execution_count": 30,
     "metadata": {},
     "output_type": "execute_result"
    }
   ],
   "execution_count": 30
  },
  {
   "metadata": {
    "ExecuteTime": {
     "end_time": "2024-09-18T07:55:26.747398Z",
     "start_time": "2024-09-18T07:55:26.650347Z"
    }
   },
   "cell_type": "code",
   "source": "df.index.max(), len(df)",
   "id": "363644832d742476",
   "outputs": [
    {
     "data": {
      "text/plain": [
       "(17396070, 17422831)"
      ]
     },
     "execution_count": 31,
     "metadata": {},
     "output_type": "execute_result"
    }
   ],
   "execution_count": 31
  },
  {
   "metadata": {
    "ExecuteTime": {
     "end_time": "2024-09-18T07:55:28.041267Z",
     "start_time": "2024-09-18T07:55:26.871677Z"
    }
   },
   "cell_type": "code",
   "source": "df.index[df.index.duplicated()]",
   "id": "e2f6d4544215fac3",
   "outputs": [
    {
     "data": {
      "text/plain": [
       "Index([     0,      1,      2,      3,      4,      5,      6,      7,      8,\n",
       "            9,\n",
       "       ...\n",
       "       325899, 325900, 325901, 325902, 325903, 325904, 325905, 325906, 325907,\n",
       "       325908],\n",
       "      dtype='int64', length=309919)"
      ]
     },
     "execution_count": 32,
     "metadata": {},
     "output_type": "execute_result"
    }
   ],
   "execution_count": 32
  },
  {
   "metadata": {
    "ExecuteTime": {
     "end_time": "2024-09-18T07:58:02.594437Z",
     "start_time": "2024-09-18T07:58:02.531411Z"
    }
   },
   "cell_type": "code",
   "source": [
    "from rdkit import Chem\n",
    "\n",
    "smiles = ['CO', 'CI', 'CBr', 'CCBr', 'CCI', 'CN', 'CCN', 'C=O', 'CC=O', 'NN']\n",
    "ser = pd.Series(name='inchi_key')\n",
    "for smi in smiles:\n",
    "    mol = Chem.MolFromSmiles(smi)\n",
    "    Chem.SanitizeMol(mol)\n",
    "    ser.loc[len(ser)] = Chem.MolToInchiKey(mol)\n",
    "    print(\"%5s %s\" % (smi, ser.iloc[-1]))"
   ],
   "id": "aa059c39343a154e",
   "outputs": [
    {
     "name": "stdout",
     "output_type": "stream",
     "text": [
      "   CO OKKJLVBELUTLKV-UHFFFAOYSA-N\n",
      "   CI INQOMBQAUSQDDS-UHFFFAOYSA-N\n",
      "  CBr GZUXJHMPEANEGY-UHFFFAOYSA-N\n",
      " CCBr RDHPKYGYEGBMSE-UHFFFAOYSA-N\n",
      "  CCI HVTICUPFWKNHNG-UHFFFAOYSA-N\n",
      "   CN BAVYZALUXZFZLV-UHFFFAOYSA-N\n",
      "  CCN QUSNBJAOOMFDIB-UHFFFAOYSA-N\n",
      "  C=O WSFSSNUMVMOOMR-UHFFFAOYSA-N\n",
      " CC=O IKHGUXGNUITLKF-UHFFFAOYSA-N\n",
      "   NN OAKJQQAXSVQMHS-UHFFFAOYSA-N\n"
     ]
    }
   ],
   "execution_count": 42
  },
  {
   "metadata": {
    "ExecuteTime": {
     "end_time": "2024-09-18T07:58:11.758574Z",
     "start_time": "2024-09-18T07:58:09.766663Z"
    }
   },
   "cell_type": "code",
   "source": "mask = ser.isin(df.inchi_key)",
   "id": "76f4227377612721",
   "outputs": [],
   "execution_count": 44
  },
  {
   "metadata": {
    "ExecuteTime": {
     "end_time": "2024-09-18T07:58:13.772985Z",
     "start_time": "2024-09-18T07:58:13.706220Z"
    }
   },
   "cell_type": "code",
   "source": "ser[~mask]",
   "id": "9bddca3597ba0494",
   "outputs": [
    {
     "data": {
      "text/plain": [
       "0    OKKJLVBELUTLKV-UHFFFAOYSA-N\n",
       "1    INQOMBQAUSQDDS-UHFFFAOYSA-N\n",
       "2    GZUXJHMPEANEGY-UHFFFAOYSA-N\n",
       "3    RDHPKYGYEGBMSE-UHFFFAOYSA-N\n",
       "4    HVTICUPFWKNHNG-UHFFFAOYSA-N\n",
       "5    BAVYZALUXZFZLV-UHFFFAOYSA-N\n",
       "6    QUSNBJAOOMFDIB-UHFFFAOYSA-N\n",
       "7    WSFSSNUMVMOOMR-UHFFFAOYSA-N\n",
       "8    IKHGUXGNUITLKF-UHFFFAOYSA-N\n",
       "9    OAKJQQAXSVQMHS-UHFFFAOYSA-N\n",
       "Name: inchi_key, dtype: object"
      ]
     },
     "execution_count": 45,
     "metadata": {},
     "output_type": "execute_result"
    }
   ],
   "execution_count": 45
  },
  {
   "metadata": {
    "ExecuteTime": {
     "end_time": "2024-09-18T07:58:24.319867Z",
     "start_time": "2024-09-18T07:58:24.054925Z"
    }
   },
   "cell_type": "code",
   "source": "pd.concat([df, ser[~mask]], axis=0).shape",
   "id": "c8c6a2813af0574a",
   "outputs": [
    {
     "data": {
      "text/plain": [
       "(17422841, 1)"
      ]
     },
     "execution_count": 47,
     "metadata": {},
     "output_type": "execute_result"
    }
   ],
   "execution_count": 47
  },
  {
   "metadata": {
    "ExecuteTime": {
     "end_time": "2024-09-18T07:58:30.438792Z",
     "start_time": "2024-09-18T07:58:30.369027Z"
    }
   },
   "cell_type": "code",
   "source": "Chem.MolToInchiKey(mol)",
   "id": "abf247d5750ddbf0",
   "outputs": [
    {
     "data": {
      "text/plain": [
       "'OAKJQQAXSVQMHS-UHFFFAOYSA-N'"
      ]
     },
     "execution_count": 48,
     "metadata": {},
     "output_type": "execute_result"
    }
   ],
   "execution_count": 48
  },
  {
   "metadata": {
    "ExecuteTime": {
     "end_time": "2024-09-18T07:58:43.445224Z",
     "start_time": "2024-09-18T07:58:37.555628Z"
    }
   },
   "cell_type": "code",
   "source": [
    "with pd.HDFStore('config/zinc_stock.hdf5', 'w') as store:\n",
    "    store.put('/table', df)"
   ],
   "id": "a1904f97172ad9d4",
   "outputs": [],
   "execution_count": 49
  },
  {
   "metadata": {},
   "cell_type": "code",
   "outputs": [],
   "execution_count": null,
   "source": "",
   "id": "f226a976061282d8"
  },
  {
   "metadata": {
    "ExecuteTime": {
     "end_time": "2024-09-18T08:03:43.896117Z",
     "start_time": "2024-09-18T08:03:10.974897Z"
    }
   },
   "cell_type": "code",
   "source": [
    "import pandas as pd\n",
    "from rdkit import Chem\n",
    "\n",
    "smiles = ['CO', 'CI', 'CBr', 'CCBr', 'CCI', 'CN', 'CCN', 'C=O', 'CC=O', 'NN']\n",
    "\n",
    "with pd.HDFStore('config/zinc_stock.hdf5', 'r') as store:\n",
    "    df = store.get('/table')\n",
    "    \n",
    "ser = pd.Series(name='inchi_key')\n",
    "for smi in smiles:\n",
    "    mol = Chem.MolFromSmiles(smi)\n",
    "    Chem.SanitizeMol(mol)\n",
    "    ser.loc[len(ser)] = Chem.MolToInchiKey(mol)    \n",
    "mask = ~(ser.isin(df.inchi_key))\n",
    "df = pd.concat([df, ser[mask]], axis=0)\n",
    "\n",
    "with pd.HDFStore('config/zinc_stock.hdf5', 'w') as store:\n",
    "    store.put('/table', df)\n",
    "    print(mask.sum(), 'compounds added')"
   ],
   "id": "55a0d00c8f2594ab",
   "outputs": [
    {
     "name": "stdout",
     "output_type": "stream",
     "text": [
      "10 compounds added\n"
     ]
    }
   ],
   "execution_count": 52
  }
 ],
 "metadata": {
  "kernelspec": {
   "display_name": "aiz",
   "language": "python",
   "name": "aiz"
  },
  "language_info": {
   "codemirror_mode": {
    "name": "ipython",
    "version": 2
   },
   "file_extension": ".py",
   "mimetype": "text/x-python",
   "name": "python",
   "nbconvert_exporter": "python",
   "pygments_lexer": "ipython2",
   "version": "2.7.6"
  }
 },
 "nbformat": 4,
 "nbformat_minor": 5
}
