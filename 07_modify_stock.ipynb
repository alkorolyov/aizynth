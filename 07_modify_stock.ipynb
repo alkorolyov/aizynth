{
 "cells": [
  {
   "metadata": {
    "ExecuteTime": {
     "end_time": "2024-10-01T06:58:00.341040Z",
     "start_time": "2024-10-01T06:57:59.662740Z"
    }
   },
   "cell_type": "code",
   "source": [
    "import re\n",
    "import gzip\n",
    "\n",
    "import numpy as np\n",
    "from tqdm import tqdm\n",
    "import pandas as pd\n",
    "\n",
    "from rdkit import Chem\n",
    "from rdkit.Chem import PandasTools\n",
    "\n",
    "smiles_to_add = [\n",
    "    'CCOCC', 'CO', 'CI', 'CBr', 'CCl', \n",
    "    'CCCl', 'CCBr', 'CCI', \n",
    "    'CN', 'CCN', 'C(=N)N', 'CC(=N)N', 'NN',\n",
    "    'C=O', 'CC=O', 'CC(=O)OC(C)=O', 'C1OC1',    \n",
    "    'ClS(=O)(=O)C', 'FC(F)(F)S(=O)(=O)OS(=O)(=O)C(F)(F)F',\n",
    "]"
   ],
   "id": "bffe90a1fbd69afb",
   "outputs": [],
   "execution_count": 2
  },
  {
   "metadata": {
    "ExecuteTime": {
     "end_time": "2024-10-01T06:53:19.087424Z",
     "start_time": "2024-10-01T06:53:19.075539Z"
    }
   },
   "cell_type": "code",
   "source": "",
   "id": "2adfca3ad595440a",
   "outputs": [],
   "execution_count": null
  },
  {
   "metadata": {},
   "cell_type": "markdown",
   "source": [
    "### MolPort Stock\n",
    "\n",
    "download file from https://www.molport.com/shop/fast-delivery-bb"
   ],
   "id": "2f01c733220770d9"
  },
  {
   "metadata": {
    "ExecuteTime": {
     "end_time": "2024-10-01T06:58:04.246370Z",
     "start_time": "2024-10-01T06:58:03.370552Z"
    }
   },
   "cell_type": "code",
   "source": [
    "import os\n",
    "from zipfile import ZipFile\n",
    "from rdkit import RDLogger\n",
    "\n",
    "RDLogger.DisableLog('rdApp.*')\n",
    "\n",
    "fname = 'data/molport/3_Days/3_Days-1.sdf.gz'\n",
    "\n",
    "if not os.path.exists(fname):\n",
    "    with ZipFile('data/molport/Molport_Fast_Delivery_BB_Region_EU.zip', 'r') as zip_ref:\n",
    "        zip_ref.extractall('data/molport')\n",
    "\n",
    "df = PandasTools.LoadSDF(fname, molColName='mol').reset_index()\n",
    "df.info()"
   ],
   "id": "34ee787e2c6cbc68",
   "outputs": [
    {
     "name": "stdout",
     "output_type": "stream",
     "text": [
      "<class 'pandas.core.frame.DataFrame'>\n",
      "RangeIndex: 3539 entries, 0 to 3538\n",
      "Data columns (total 7 columns):\n",
      " #   Column            Non-Null Count  Dtype \n",
      "---  ------            --------------  ----- \n",
      " 0   index             3539 non-null   int64 \n",
      " 1   Molport ID        3539 non-null   object\n",
      " 2   SMILES            3539 non-null   object\n",
      " 3   Supplier Country  3539 non-null   object\n",
      " 4   Link to Molport   3539 non-null   object\n",
      " 5   ID                3539 non-null   object\n",
      " 6   mol               3539 non-null   object\n",
      "dtypes: int64(1), object(6)\n",
      "memory usage: 193.7+ KB\n"
     ]
    }
   ],
   "execution_count": 3
  },
  {
   "metadata": {
    "ExecuteTime": {
     "end_time": "2024-10-01T06:59:17.061693Z",
     "start_time": "2024-10-01T06:59:16.056203Z"
    }
   },
   "cell_type": "code",
   "source": [
    "for i in tqdm(df.index):\n",
    "    try:\n",
    "        # smi = df.at[i, 'SMILES']        \n",
    "        # mol = Chem.MolFromSmiles(smi)\n",
    "        \n",
    "        mol = df.at[i, 'mol']                \n",
    "        df.at[i, 'inchi_key'] = Chem.MolToInchiKey(mol)\n",
    "    except Exception as e:        \n",
    "        pass\n",
    "        # smi = Chem.MolToSmiles(mol)\n",
    "        # print(smi, e)\n",
    "\n",
    "for smi in smiles_to_add:\n",
    "    mol = Chem.MolFromSmiles(smi)\n",
    "    if not mol:\n",
    "        print(smi)\n",
    "        continue\n",
    "    inchi_key = Chem.MolToInchiKey(mol)\n",
    "    if inchi_key not in df.inchi_key:\n",
    "        idx = len(df)\n",
    "        df.at[idx, 'SMILES'] = smi \n",
    "        df.at[idx, 'mol'] = mol\n",
    "        df.at[idx, 'inchi_key'] = Chem.MolToInchiKey(mol)"
   ],
   "id": "d7628737139e2969",
   "outputs": [
    {
     "name": "stderr",
     "output_type": "stream",
     "text": [
      "100%|██████████| 3539/3539 [00:00<00:00, 3663.82it/s]\n"
     ]
    }
   ],
   "execution_count": 4
  },
  {
   "metadata": {
    "ExecuteTime": {
     "end_time": "2024-10-01T06:53:20.938153Z",
     "start_time": "2024-10-01T06:53:20.923577Z"
    }
   },
   "cell_type": "code",
   "source": "",
   "id": "3f19af5c0d1a8717",
   "outputs": [],
   "execution_count": 6
  },
  {
   "metadata": {
    "ExecuteTime": {
     "end_time": "2024-10-01T06:53:21.668371Z",
     "start_time": "2024-10-01T06:53:20.956138Z"
    }
   },
   "cell_type": "code",
   "source": [
    "from src.utils import apply_mp\n",
    "\n",
    "def mol2inchi(mol):\n",
    "    try:\n",
    "        return Chem.MolToInchiKey(mol)\n",
    "    except:\n",
    "        return None\n",
    "\n",
    "# inchi_key = apply_mp(df.mol[:100], mol2inchi)\n",
    "df.mol.apply(mol2inchi)"
   ],
   "id": "d407772d3eeeb8a1",
   "outputs": [
    {
     "data": {
      "text/plain": [
       "0       CKXJVKOWWTUZFO-ZETCQYMHSA-N\n",
       "1       GGUQUEHTEDXBQP-UHFFFAOYSA-N\n",
       "2       LOENBOWNSQEQMP-KRWDZBQOSA-N\n",
       "3       DCVRDYIASVYSKO-UHFFFAOYSA-N\n",
       "4       QJMQVPOLPLYDHZ-UHFFFAOYSA-N\n",
       "                   ...             \n",
       "3548    PNKUSGQVOMIXLU-UHFFFAOYSA-N\n",
       "3549    OAKJQQAXSVQMHS-UHFFFAOYSA-N\n",
       "3550    WSFSSNUMVMOOMR-UHFFFAOYSA-N\n",
       "3551    IKHGUXGNUITLKF-UHFFFAOYSA-N\n",
       "3552    WFDIJRYMOXRFFG-UHFFFAOYSA-N\n",
       "Name: mol, Length: 3553, dtype: object"
      ]
     },
     "execution_count": 7,
     "metadata": {},
     "output_type": "execute_result"
    }
   ],
   "execution_count": 7
  },
  {
   "metadata": {
    "ExecuteTime": {
     "end_time": "2024-09-30T11:42:19.040637Z",
     "start_time": "2024-09-30T11:42:18.931838Z"
    }
   },
   "cell_type": "code",
   "source": [
    "cols = ['Molport ID', 'SMILES', 'Supplier Country', 'inchi_key']\n",
    "df = df[cols].dropna(subset='inchi_key')"
   ],
   "id": "51271398864c3664",
   "outputs": [],
   "execution_count": 17
  },
  {
   "metadata": {
    "ExecuteTime": {
     "end_time": "2024-09-30T11:42:35.632629Z",
     "start_time": "2024-09-30T11:42:35.534314Z"
    }
   },
   "cell_type": "code",
   "source": [
    "with pd.HDFStore('config/molport_7d_stock.hdf5', 'w') as store:\n",
    "    store.put('/table', pd.DataFrame(df.inchi_key.dropna()))"
   ],
   "id": "8a3c6eecf664b75a",
   "outputs": [],
   "execution_count": 19
  },
  {
   "metadata": {},
   "cell_type": "markdown",
   "source": "### modify zinc stock",
   "id": "183317f357506b24"
  },
  {
   "metadata": {
    "ExecuteTime": {
     "end_time": "2024-09-30T09:39:12.915714Z",
     "start_time": "2024-09-30T09:38:44.485031Z"
    }
   },
   "cell_type": "code",
   "source": [
    "print('Loading zinc stock ... ', end='')\n",
    "with pd.HDFStore('config/zinc_stock.hdf5', 'r') as store:\n",
    "    df = store.get('/table')\n",
    "print('Done')\n",
    "    \n",
    "ser = pd.Series(name='inchi_key', dtype=str)\n",
    "for smi in smiles_to_add:\n",
    "    mol = Chem.MolFromSmiles(smi)\n",
    "    try:\n",
    "        Chem.SanitizeMol(mol)\n",
    "        ser.loc[len(ser)] = Chem.MolToInchiKey(mol)\n",
    "    except Exception as e:\n",
    "        print(smi, 'failed:', e)\n",
    "\n",
    "mask = ~ser.isin(df.inchi_key)\n",
    "if mask.any():    \n",
    "    with pd.HDFStore('config/zinc_stock.hdf5', 'w') as store:\n",
    "        df = pd.concat([df, ser[mask]])\n",
    "        store.put('/table', df)\n",
    "        print(mask.sum(), 'compounds added')"
   ],
   "id": "b7a5993a065dcf84",
   "outputs": [
    {
     "name": "stdout",
     "output_type": "stream",
     "text": [
      "Loading zinc stock ... Done\n"
     ]
    }
   ],
   "execution_count": 4
  },
  {
   "metadata": {
    "ExecuteTime": {
     "end_time": "2024-09-30T09:39:12.931235Z",
     "start_time": "2024-09-30T09:39:12.915714Z"
    }
   },
   "cell_type": "code",
   "source": "df.info()",
   "id": "5c1f565fe1f73d00",
   "outputs": [
    {
     "name": "stdout",
     "output_type": "stream",
     "text": [
      "<class 'pandas.core.frame.DataFrame'>\n",
      "Index: 17422844 entries, 0 to 9\n",
      "Data columns (total 1 columns):\n",
      " #   Column     Dtype \n",
      "---  ------     ----- \n",
      " 0   inchi_key  object\n",
      "dtypes: object(1)\n",
      "memory usage: 265.9+ MB\n"
     ]
    }
   ],
   "execution_count": 5
  },
  {
   "metadata": {
    "ExecuteTime": {
     "end_time": "2024-09-18T08:28:45.402698Z",
     "start_time": "2024-09-18T08:28:45.334314Z"
    }
   },
   "cell_type": "code",
   "source": [
    "import pandas as pd\n",
    "\n",
    "with pd.HDFStore('config/zinc_stock.hdf5', 'r') as store:\n",
    "    print(store.info())\n",
    "    print(store.keys())"
   ],
   "id": "eb777a81b08a0d6e",
   "outputs": [
    {
     "name": "stdout",
     "output_type": "stream",
     "text": [
      "<class 'pandas.io.pytables.HDFStore'>\n",
      "File path: config/zinc_stock.hdf5\n",
      "/                 [invalid_HDFStore node: group ``/table`` does not have a child named ``description``]\n",
      "/table            frame        (shape->[1,1])                                                          \n",
      "['/', '/table']\n"
     ]
    }
   ],
   "execution_count": 53
  },
  {
   "metadata": {
    "ExecuteTime": {
     "end_time": "2024-09-18T08:29:48.844510Z",
     "start_time": "2024-09-18T08:29:24.165897Z"
    }
   },
   "cell_type": "code",
   "source": [
    "with pd.HDFStore('config/zinc_stock_orig.hdf5', 'r') as store:\n",
    "    df = store.get('/table')\n",
    "\n",
    "df.info()"
   ],
   "id": "34db9b64a5fcfea9",
   "outputs": [
    {
     "name": "stdout",
     "output_type": "stream",
     "text": [
      "<class 'pandas.core.frame.DataFrame'>\n",
      "Index: 17422831 entries, 0 to 325908\n",
      "Data columns (total 1 columns):\n",
      " #   Column     Dtype \n",
      "---  ------     ----- \n",
      " 0   inchi_key  object\n",
      "dtypes: object(1)\n",
      "memory usage: 265.9+ MB\n"
     ]
    }
   ],
   "execution_count": 55
  },
  {
   "metadata": {
    "ExecuteTime": {
     "end_time": "2024-09-18T07:55:26.478535Z",
     "start_time": "2024-09-18T07:55:26.415965Z"
    }
   },
   "cell_type": "code",
   "source": "df.head()",
   "id": "a98fab26be796bcd",
   "outputs": [
    {
     "data": {
      "text/plain": [
       "                     inchi_key\n",
       "0  RYYVLZVUVIJVGH-UHFFFAOYSA-N\n",
       "1  HZZVJAQRINQKSD-RQJHMYQMSA-N\n",
       "2  RRTKVYSLIGQWCO-UHFFFAOYSA-N\n",
       "3  YAPQBXQYLJRXSA-UHFFFAOYSA-N\n",
       "4  SZPBAPFUXAADQV-UHFFFAOYSA-N"
      ],
      "text/html": [
       "<div>\n",
       "<style scoped>\n",
       "    .dataframe tbody tr th:only-of-type {\n",
       "        vertical-align: middle;\n",
       "    }\n",
       "\n",
       "    .dataframe tbody tr th {\n",
       "        vertical-align: top;\n",
       "    }\n",
       "\n",
       "    .dataframe thead th {\n",
       "        text-align: right;\n",
       "    }\n",
       "</style>\n",
       "<table border=\"1\" class=\"dataframe\">\n",
       "  <thead>\n",
       "    <tr style=\"text-align: right;\">\n",
       "      <th></th>\n",
       "      <th>inchi_key</th>\n",
       "    </tr>\n",
       "  </thead>\n",
       "  <tbody>\n",
       "    <tr>\n",
       "      <th>0</th>\n",
       "      <td>RYYVLZVUVIJVGH-UHFFFAOYSA-N</td>\n",
       "    </tr>\n",
       "    <tr>\n",
       "      <th>1</th>\n",
       "      <td>HZZVJAQRINQKSD-RQJHMYQMSA-N</td>\n",
       "    </tr>\n",
       "    <tr>\n",
       "      <th>2</th>\n",
       "      <td>RRTKVYSLIGQWCO-UHFFFAOYSA-N</td>\n",
       "    </tr>\n",
       "    <tr>\n",
       "      <th>3</th>\n",
       "      <td>YAPQBXQYLJRXSA-UHFFFAOYSA-N</td>\n",
       "    </tr>\n",
       "    <tr>\n",
       "      <th>4</th>\n",
       "      <td>SZPBAPFUXAADQV-UHFFFAOYSA-N</td>\n",
       "    </tr>\n",
       "  </tbody>\n",
       "</table>\n",
       "</div>"
      ]
     },
     "execution_count": 29,
     "metadata": {},
     "output_type": "execute_result"
    }
   ],
   "execution_count": 29
  },
  {
   "metadata": {
    "ExecuteTime": {
     "end_time": "2024-09-18T07:55:26.604257Z",
     "start_time": "2024-09-18T07:55:26.542639Z"
    }
   },
   "cell_type": "code",
   "source": "df.tail()",
   "id": "7543fcf809324999",
   "outputs": [
    {
     "data": {
      "text/plain": [
       "                          inchi_key\n",
       "325904  OKYGVTBDEYVSBV-KPPDAEKUSA-N\n",
       "325905  OKYGVTBDEYVSBV-WHXUTIOJSA-N\n",
       "325906  RIHTXYUOTJTDKX-UHFFFAOYSA-N\n",
       "325907  WQOVAHPYNIWPHG-CYBMUJFWSA-N\n",
       "325908  WQOVAHPYNIWPHG-ZDUSSCGKSA-N"
      ],
      "text/html": [
       "<div>\n",
       "<style scoped>\n",
       "    .dataframe tbody tr th:only-of-type {\n",
       "        vertical-align: middle;\n",
       "    }\n",
       "\n",
       "    .dataframe tbody tr th {\n",
       "        vertical-align: top;\n",
       "    }\n",
       "\n",
       "    .dataframe thead th {\n",
       "        text-align: right;\n",
       "    }\n",
       "</style>\n",
       "<table border=\"1\" class=\"dataframe\">\n",
       "  <thead>\n",
       "    <tr style=\"text-align: right;\">\n",
       "      <th></th>\n",
       "      <th>inchi_key</th>\n",
       "    </tr>\n",
       "  </thead>\n",
       "  <tbody>\n",
       "    <tr>\n",
       "      <th>325904</th>\n",
       "      <td>OKYGVTBDEYVSBV-KPPDAEKUSA-N</td>\n",
       "    </tr>\n",
       "    <tr>\n",
       "      <th>325905</th>\n",
       "      <td>OKYGVTBDEYVSBV-WHXUTIOJSA-N</td>\n",
       "    </tr>\n",
       "    <tr>\n",
       "      <th>325906</th>\n",
       "      <td>RIHTXYUOTJTDKX-UHFFFAOYSA-N</td>\n",
       "    </tr>\n",
       "    <tr>\n",
       "      <th>325907</th>\n",
       "      <td>WQOVAHPYNIWPHG-CYBMUJFWSA-N</td>\n",
       "    </tr>\n",
       "    <tr>\n",
       "      <th>325908</th>\n",
       "      <td>WQOVAHPYNIWPHG-ZDUSSCGKSA-N</td>\n",
       "    </tr>\n",
       "  </tbody>\n",
       "</table>\n",
       "</div>"
      ]
     },
     "execution_count": 30,
     "metadata": {},
     "output_type": "execute_result"
    }
   ],
   "execution_count": 30
  },
  {
   "metadata": {
    "ExecuteTime": {
     "end_time": "2024-09-18T07:55:26.747398Z",
     "start_time": "2024-09-18T07:55:26.650347Z"
    }
   },
   "cell_type": "code",
   "source": "df.index.max(), len(df)",
   "id": "363644832d742476",
   "outputs": [
    {
     "data": {
      "text/plain": [
       "(17396070, 17422831)"
      ]
     },
     "execution_count": 31,
     "metadata": {},
     "output_type": "execute_result"
    }
   ],
   "execution_count": 31
  },
  {
   "metadata": {
    "ExecuteTime": {
     "end_time": "2024-09-18T07:55:28.041267Z",
     "start_time": "2024-09-18T07:55:26.871677Z"
    }
   },
   "cell_type": "code",
   "source": "df.index[df.index.duplicated()]",
   "id": "e2f6d4544215fac3",
   "outputs": [
    {
     "data": {
      "text/plain": [
       "Index([     0,      1,      2,      3,      4,      5,      6,      7,      8,\n",
       "            9,\n",
       "       ...\n",
       "       325899, 325900, 325901, 325902, 325903, 325904, 325905, 325906, 325907,\n",
       "       325908],\n",
       "      dtype='int64', length=309919)"
      ]
     },
     "execution_count": 32,
     "metadata": {},
     "output_type": "execute_result"
    }
   ],
   "execution_count": 32
  },
  {
   "metadata": {
    "ExecuteTime": {
     "end_time": "2024-09-18T07:58:02.594437Z",
     "start_time": "2024-09-18T07:58:02.531411Z"
    }
   },
   "cell_type": "code",
   "source": [
    "from rdkit import Chem\n",
    "\n",
    "smiles = ['CO', 'CI', 'CBr', 'CCBr', 'CCI', 'CN', 'CCN', 'C=O', 'CC=O', 'NN']\n",
    "ser = pd.Series(name='inchi_key')\n",
    "for smi in smiles:\n",
    "    mol = Chem.MolFromSmiles(smi)\n",
    "    Chem.SanitizeMol(mol)\n",
    "    ser.loc[len(ser)] = Chem.MolToInchiKey(mol)\n",
    "    print(\"%5s %s\" % (smi, ser.iloc[-1]))"
   ],
   "id": "aa059c39343a154e",
   "outputs": [
    {
     "name": "stdout",
     "output_type": "stream",
     "text": [
      "   CO OKKJLVBELUTLKV-UHFFFAOYSA-N\n",
      "   CI INQOMBQAUSQDDS-UHFFFAOYSA-N\n",
      "  CBr GZUXJHMPEANEGY-UHFFFAOYSA-N\n",
      " CCBr RDHPKYGYEGBMSE-UHFFFAOYSA-N\n",
      "  CCI HVTICUPFWKNHNG-UHFFFAOYSA-N\n",
      "   CN BAVYZALUXZFZLV-UHFFFAOYSA-N\n",
      "  CCN QUSNBJAOOMFDIB-UHFFFAOYSA-N\n",
      "  C=O WSFSSNUMVMOOMR-UHFFFAOYSA-N\n",
      " CC=O IKHGUXGNUITLKF-UHFFFAOYSA-N\n",
      "   NN OAKJQQAXSVQMHS-UHFFFAOYSA-N\n"
     ]
    }
   ],
   "execution_count": 42
  },
  {
   "metadata": {
    "ExecuteTime": {
     "end_time": "2024-09-18T07:58:11.758574Z",
     "start_time": "2024-09-18T07:58:09.766663Z"
    }
   },
   "cell_type": "code",
   "source": "mask = ser.isin(df.inchi_key)",
   "id": "76f4227377612721",
   "outputs": [],
   "execution_count": 44
  },
  {
   "metadata": {
    "ExecuteTime": {
     "end_time": "2024-09-18T07:58:13.772985Z",
     "start_time": "2024-09-18T07:58:13.706220Z"
    }
   },
   "cell_type": "code",
   "source": "ser[~mask]",
   "id": "9bddca3597ba0494",
   "outputs": [
    {
     "data": {
      "text/plain": [
       "0    OKKJLVBELUTLKV-UHFFFAOYSA-N\n",
       "1    INQOMBQAUSQDDS-UHFFFAOYSA-N\n",
       "2    GZUXJHMPEANEGY-UHFFFAOYSA-N\n",
       "3    RDHPKYGYEGBMSE-UHFFFAOYSA-N\n",
       "4    HVTICUPFWKNHNG-UHFFFAOYSA-N\n",
       "5    BAVYZALUXZFZLV-UHFFFAOYSA-N\n",
       "6    QUSNBJAOOMFDIB-UHFFFAOYSA-N\n",
       "7    WSFSSNUMVMOOMR-UHFFFAOYSA-N\n",
       "8    IKHGUXGNUITLKF-UHFFFAOYSA-N\n",
       "9    OAKJQQAXSVQMHS-UHFFFAOYSA-N\n",
       "Name: inchi_key, dtype: object"
      ]
     },
     "execution_count": 45,
     "metadata": {},
     "output_type": "execute_result"
    }
   ],
   "execution_count": 45
  },
  {
   "metadata": {
    "ExecuteTime": {
     "end_time": "2024-09-18T07:58:24.319867Z",
     "start_time": "2024-09-18T07:58:24.054925Z"
    }
   },
   "cell_type": "code",
   "source": "pd.concat([df, ser[~mask]], axis=0).shape",
   "id": "c8c6a2813af0574a",
   "outputs": [
    {
     "data": {
      "text/plain": [
       "(17422841, 1)"
      ]
     },
     "execution_count": 47,
     "metadata": {},
     "output_type": "execute_result"
    }
   ],
   "execution_count": 47
  },
  {
   "metadata": {
    "ExecuteTime": {
     "end_time": "2024-09-18T07:58:30.438792Z",
     "start_time": "2024-09-18T07:58:30.369027Z"
    }
   },
   "cell_type": "code",
   "source": "Chem.MolToInchiKey(mol)",
   "id": "abf247d5750ddbf0",
   "outputs": [
    {
     "data": {
      "text/plain": [
       "'OAKJQQAXSVQMHS-UHFFFAOYSA-N'"
      ]
     },
     "execution_count": 48,
     "metadata": {},
     "output_type": "execute_result"
    }
   ],
   "execution_count": 48
  },
  {
   "metadata": {
    "ExecuteTime": {
     "end_time": "2024-09-18T07:58:43.445224Z",
     "start_time": "2024-09-18T07:58:37.555628Z"
    }
   },
   "cell_type": "code",
   "source": [
    "with pd.HDFStore('config/zinc_stock.hdf5', 'w') as store:\n",
    "    store.put('/table', df)"
   ],
   "id": "a1904f97172ad9d4",
   "outputs": [],
   "execution_count": 49
  },
  {
   "metadata": {},
   "cell_type": "code",
   "outputs": [],
   "execution_count": null,
   "source": "",
   "id": "f226a976061282d8"
  },
  {
   "metadata": {
    "ExecuteTime": {
     "end_time": "2024-09-18T08:03:43.896117Z",
     "start_time": "2024-09-18T08:03:10.974897Z"
    }
   },
   "cell_type": "code",
   "source": [
    "import pandas as pd\n",
    "from rdkit import Chem\n",
    "\n",
    "smiles = ['CO', 'CI', 'CBr', 'CCBr', 'CCI', 'CN', 'CCN', 'C=O', 'CC=O', 'NN']\n",
    "\n",
    "with pd.HDFStore('config/zinc_stock.hdf5', 'r') as store:\n",
    "    df = store.get('/table')\n",
    "    \n",
    "ser = pd.Series(name='inchi_key')\n",
    "for smi in smiles:\n",
    "    mol = Chem.MolFromSmiles(smi)\n",
    "    Chem.SanitizeMol(mol)\n",
    "    ser.loc[len(ser)] = Chem.MolToInchiKey(mol)    \n",
    "mask = ~(ser.isin(df.inchi_key))\n",
    "df = pd.concat([df, ser[mask]], axis=0)\n",
    "\n",
    "with pd.HDFStore('config/zinc_stock.hdf5', 'w') as store:\n",
    "    store.put('/table', df)\n",
    "    print(mask.sum(), 'compounds added')"
   ],
   "id": "55a0d00c8f2594ab",
   "outputs": [
    {
     "name": "stdout",
     "output_type": "stream",
     "text": [
      "10 compounds added\n"
     ]
    }
   ],
   "execution_count": 52
  }
 ],
 "metadata": {
  "kernelspec": {
   "display_name": "aiz",
   "language": "python",
   "name": "aiz"
  },
  "language_info": {
   "codemirror_mode": {
    "name": "ipython",
    "version": 2
   },
   "file_extension": ".py",
   "mimetype": "text/x-python",
   "name": "python",
   "nbconvert_exporter": "python",
   "pygments_lexer": "ipython2",
   "version": "2.7.6"
  }
 },
 "nbformat": 4,
 "nbformat_minor": 5
}
