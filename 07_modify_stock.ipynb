{
 "cells": [
  {
   "metadata": {
    "ExecuteTime": {
     "end_time": "2024-10-02T08:35:31.289791Z",
     "start_time": "2024-10-02T08:35:31.245531Z"
    }
   },
   "cell_type": "code",
   "source": [
    "import re\n",
    "import gzip\n",
    "\n",
    "import numpy as np\n",
    "from tqdm import tqdm\n",
    "import pandas as pd\n",
    "\n",
    "from rdkit import Chem\n",
    "from rdkit.Chem import PandasTools\n",
    "\n",
    "smiles_to_add = [\n",
    "    'CCOCC', 'CO', 'CI', 'CBr', 'CCl', \n",
    "    'CCCl', 'CCBr', 'CCI', \n",
    "    'CN', 'CCN', 'C(=N)N', 'CC(=N)N', 'NN',\n",
    "    'C=O', 'CC=O', 'CC(=O)OC(C)=O', 'C1OC1',    \n",
    "    'ClS(=O)(=O)C', 'CS(=O)(=O)OS(C)(=O)=O', 'FC(F)(F)S(=O)(=O)OS(=O)(=O)C(F)(F)F',\n",
    "]"
   ],
   "id": "bffe90a1fbd69afb",
   "outputs": [],
   "execution_count": 5
  },
  {
   "metadata": {},
   "cell_type": "markdown",
   "source": [
    "### Create MolPort Stock\n",
    "\n",
    "download file from https://www.molport.com/shop/fast-delivery-bb"
   ],
   "id": "2f01c733220770d9"
  },
  {
   "metadata": {
    "ExecuteTime": {
     "end_time": "2024-10-02T08:36:45.794156Z",
     "start_time": "2024-10-02T08:35:33.462986Z"
    }
   },
   "cell_type": "code",
   "source": [
    "import os\n",
    "from zipfile import ZipFile\n",
    "from rdkit import RDLogger\n",
    "\n",
    "RDLogger.DisableLog('rdApp.*')\n",
    "\n",
    "fname = 'data/molport/7_Days/7_Days-1.sdf.gz'\n",
    "\n",
    "if not os.path.exists(fname):\n",
    "    with ZipFile('data/molport/Molport_Fast_Delivery_BB_Region_EU.zip', 'r') as zip_ref:\n",
    "        zip_ref.extractall('data/molport')\n",
    "\n",
    "df = PandasTools.LoadSDF(fname, molColName='mol').reset_index()\n",
    "df.info()"
   ],
   "id": "34ee787e2c6cbc68",
   "outputs": [
    {
     "name": "stdout",
     "output_type": "stream",
     "text": [
      "<class 'pandas.core.frame.DataFrame'>\n",
      "RangeIndex: 323092 entries, 0 to 323091\n",
      "Data columns (total 7 columns):\n",
      " #   Column            Non-Null Count   Dtype \n",
      "---  ------            --------------   ----- \n",
      " 0   index             323092 non-null  int64 \n",
      " 1   Molport ID        323092 non-null  object\n",
      " 2   SMILES            323092 non-null  object\n",
      " 3   Supplier Country  323092 non-null  object\n",
      " 4   Link to Molport   323092 non-null  object\n",
      " 5   ID                323092 non-null  object\n",
      " 6   mol               323092 non-null  object\n",
      "dtypes: int64(1), object(6)\n",
      "memory usage: 17.3+ MB\n"
     ]
    }
   ],
   "execution_count": 6
  },
  {
   "metadata": {
    "ExecuteTime": {
     "end_time": "2024-10-02T08:38:28.539935Z",
     "start_time": "2024-10-02T08:36:51.841152Z"
    }
   },
   "cell_type": "code",
   "source": [
    "for i in tqdm(df.index):\n",
    "    try:\n",
    "        # smi = df.at[i, 'SMILES']        \n",
    "        # mol = Chem.MolFromSmiles(smi)\n",
    "        \n",
    "        mol = df.at[i, 'mol']                \n",
    "        df.at[i, 'inchi_key'] = Chem.MolToInchiKey(mol)\n",
    "    except Exception as e:        \n",
    "        pass\n",
    "        # smi = Chem.MolToSmiles(mol)\n",
    "        # print(smi, e)\n",
    "\n",
    "for smi in smiles_to_add:\n",
    "    mol = Chem.MolFromSmiles(smi)\n",
    "    if not mol:\n",
    "        print(smi)\n",
    "        continue\n",
    "    inchi_key = Chem.MolToInchiKey(mol)\n",
    "    if inchi_key not in df.inchi_key:\n",
    "        idx = len(df)\n",
    "        df.at[idx, 'SMILES'] = smi \n",
    "        df.at[idx, 'mol'] = mol\n",
    "        df.at[idx, 'inchi_key'] = Chem.MolToInchiKey(mol)"
   ],
   "id": "d7628737139e2969",
   "outputs": [
    {
     "name": "stderr",
     "output_type": "stream",
     "text": [
      "100%|██████████| 323092/323092 [01:35<00:00, 3380.46it/s]\n"
     ]
    }
   ],
   "execution_count": 7
  },
  {
   "metadata": {
    "ExecuteTime": {
     "end_time": "2024-10-02T08:38:32.127017Z",
     "start_time": "2024-10-02T08:38:28.573966Z"
    }
   },
   "cell_type": "code",
   "source": [
    "cols = ['Molport ID', 'SMILES', 'Supplier Country', 'inchi_key']\n",
    "df = df[cols].dropna(subset='inchi_key')"
   ],
   "id": "51271398864c3664",
   "outputs": [],
   "execution_count": 8
  },
  {
   "metadata": {
    "ExecuteTime": {
     "end_time": "2024-10-02T08:38:33.920005Z",
     "start_time": "2024-10-02T08:38:32.141656Z"
    }
   },
   "cell_type": "code",
   "source": [
    "with pd.HDFStore('config/molport_7d_stock.hdf5', 'w') as store:\n",
    "    store.put('/table', pd.DataFrame(df.inchi_key))"
   ],
   "id": "8a3c6eecf664b75a",
   "outputs": [],
   "execution_count": 9
  },
  {
   "metadata": {},
   "cell_type": "markdown",
   "source": "### modify zinc stock",
   "id": "183317f357506b24"
  },
  {
   "metadata": {
    "ExecuteTime": {
     "end_time": "2024-09-30T09:39:12.915714Z",
     "start_time": "2024-09-30T09:38:44.485031Z"
    }
   },
   "cell_type": "code",
   "source": [
    "# print('Loading zinc stock ... ', end='')\n",
    "# with pd.HDFStore('config/zinc_stock.hdf5', 'r') as store:\n",
    "#     df = store.get('/table')\n",
    "# print('Done')\n",
    "#     \n",
    "# ser = pd.Series(name='inchi_key', dtype=str)\n",
    "# for smi in smiles_to_add:\n",
    "#     mol = Chem.MolFromSmiles(smi)\n",
    "#     try:\n",
    "#         Chem.SanitizeMol(mol)\n",
    "#         ser.loc[len(ser)] = Chem.MolToInchiKey(mol)\n",
    "#     except Exception as e:\n",
    "#         print(smi, 'failed:', e)\n",
    "# \n",
    "# mask = ~ser.isin(df.inchi_key)\n",
    "# if mask.any():    \n",
    "#     with pd.HDFStore('config/zinc_stock.hdf5', 'w') as store:\n",
    "#         df = pd.concat([df, ser[mask]])\n",
    "#         store.put('/table', df)\n",
    "#         print(mask.sum(), 'compounds added')"
   ],
   "id": "b7a5993a065dcf84",
   "outputs": [
    {
     "name": "stdout",
     "output_type": "stream",
     "text": [
      "Loading zinc stock ... Done\n"
     ]
    }
   ],
   "execution_count": 4
  },
  {
   "metadata": {
    "ExecuteTime": {
     "end_time": "2024-09-30T09:39:12.931235Z",
     "start_time": "2024-09-30T09:39:12.915714Z"
    }
   },
   "cell_type": "code",
   "source": "# df.info()",
   "id": "5c1f565fe1f73d00",
   "outputs": [
    {
     "name": "stdout",
     "output_type": "stream",
     "text": [
      "<class 'pandas.core.frame.DataFrame'>\n",
      "Index: 17422844 entries, 0 to 9\n",
      "Data columns (total 1 columns):\n",
      " #   Column     Dtype \n",
      "---  ------     ----- \n",
      " 0   inchi_key  object\n",
      "dtypes: object(1)\n",
      "memory usage: 265.9+ MB\n"
     ]
    }
   ],
   "execution_count": 5
  },
  {
   "metadata": {
    "ExecuteTime": {
     "end_time": "2024-09-18T07:58:43.445224Z",
     "start_time": "2024-09-18T07:58:37.555628Z"
    }
   },
   "cell_type": "code",
   "source": [
    "# with pd.HDFStore('config/zinc_stock.hdf5', 'w') as store:\n",
    "#     store.put('/table', df)"
   ],
   "id": "a1904f97172ad9d4",
   "outputs": [],
   "execution_count": 49
  }
 ],
 "metadata": {
  "kernelspec": {
   "display_name": "aiz",
   "language": "python",
   "name": "aiz"
  },
  "language_info": {
   "codemirror_mode": {
    "name": "ipython",
    "version": 2
   },
   "file_extension": ".py",
   "mimetype": "text/x-python",
   "name": "python",
   "nbconvert_exporter": "python",
   "pygments_lexer": "ipython2",
   "version": "2.7.6"
  }
 },
 "nbformat": 4,
 "nbformat_minor": 5
}
